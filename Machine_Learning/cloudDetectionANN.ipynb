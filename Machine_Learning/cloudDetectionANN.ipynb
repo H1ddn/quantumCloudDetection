{
 "cells": [
  {
   "cell_type": "markdown",
   "id": "65f0123f-3293-41e3-bec4-0afab233d979",
   "metadata": {},
   "source": [
    "## Neural Network Cloud Detection\n",
    "1. Data Peprocessing for Neural Network"
   ]
  },
  {
   "cell_type": "code",
   "execution_count": 1,
   "id": "3602407c-820a-4ae5-a35e-5fed783e3d31",
   "metadata": {},
   "outputs": [],
   "source": [
    "import numpy as np\n",
    "# Grab Dataset\n",
    "data = np.genfromtxt('../data.csv', delimiter=',')"
   ]
  },
  {
   "cell_type": "code",
   "execution_count": 2,
   "id": "c9ede73b-9e5e-4ac3-9cce-a4e6585ea86b",
   "metadata": {},
   "outputs": [],
   "source": [
    "# Split data into y (label) and x (features)\n",
    "y = data[:,0]\n",
    "x = data[:,1:]\n",
    "x = np.nan_to_num(x, nan=0.0)"
   ]
  },
  {
   "cell_type": "code",
   "execution_count": 3,
   "id": "6accdaf3-4cfa-4961-a437-b7bfa2124bed",
   "metadata": {},
   "outputs": [
    {
     "name": "stdout",
     "output_type": "stream",
     "text": [
      "0.0\n"
     ]
    }
   ],
   "source": [
    "# Any multi-layer cloud labels set to 1, turn into classification [cloud, no cloud]=[1,0]\n",
    "y = np.where(y >= 1, 1, y)\n",
    "print(y[0])"
   ]
  },
  {
   "cell_type": "code",
   "execution_count": 4,
   "id": "2ca4ba4c-7955-44e6-b448-273e2cf16d29",
   "metadata": {},
   "outputs": [],
   "source": [
    "from sklearn.model_selection import train_test_split\n",
    "# Split data into Train/Test/Validation 70/20/10\n",
    "X_train, X_test, y_train, y_test = train_test_split(x, y, test_size=0.2, random_state=42)\n",
    "X_train, X_val, y_train, y_val = train_test_split(X_train, y_train, test_size=0.125, random_state=42)"
   ]
  },
  {
   "cell_type": "code",
   "execution_count": 5,
   "id": "bd17347e-58d8-462e-a930-e764643d604e",
   "metadata": {},
   "outputs": [],
   "source": [
    "from sklearn.preprocessing import StandardScaler\n",
    "# Scale data\n",
    "scaler = StandardScaler()\n",
    "X_train = scaler.fit_transform(X_train)\n",
    "X_test = scaler.transform(X_test)\n",
    "X_val = scaler.transform(X_val)"
   ]
  },
  {
   "cell_type": "markdown",
   "id": "de0ae7d2-af1f-406d-9191-cf67d4d6c6ca",
   "metadata": {},
   "source": [
    "2. Build Neural Network Model"
   ]
  },
  {
   "cell_type": "code",
   "execution_count": 6,
   "id": "1da9ea81-b483-4d87-8fff-f5fc048a047b",
   "metadata": {},
   "outputs": [],
   "source": [
    "import tensorflow.keras as ks\n",
    "\n",
    "model = ks.Sequential([\n",
    "    ks.layers.Dense(32, activation='relu', input_shape=(x.shape[1],)),\n",
    "    ks.layers.Dense(16, activation='relu'),\n",
    "    ks.layers.Dense(8, activation='relu'),\n",
    "    ks.layers.Dense(8, activation='relu'),\n",
    "    ks.layers.Dense(4, activation='relu'),\n",
    "    ks.layers.Dense(1, activation='sigmoid')\n",
    "])\n",
    "\n",
    "model.compile(optimizer='adam',\n",
    "              loss='binary_crossentropy',\n",
    "              metrics=['accuracy'])"
   ]
  },
  {
   "cell_type": "markdown",
   "id": "ed2225ff-d976-41cd-996a-9922f99272d3",
   "metadata": {},
   "source": [
    "3. Train Model"
   ]
  },
  {
   "cell_type": "code",
   "execution_count": 7,
   "id": "7d43ef8b-6d6f-4bd4-9ce4-f4a3227756b1",
   "metadata": {},
   "outputs": [
    {
     "name": "stdout",
     "output_type": "stream",
     "text": [
      "Epoch 1/40\n",
      "3821/3821 [==============================] - 8s 2ms/step - loss: 0.3585 - accuracy: 0.8294 - val_loss: 0.3196 - val_accuracy: 0.8517\n",
      "Epoch 2/40\n",
      "3821/3821 [==============================] - 6s 2ms/step - loss: 0.3048 - accuracy: 0.8575 - val_loss: 0.2976 - val_accuracy: 0.8594\n",
      "Epoch 3/40\n",
      "3821/3821 [==============================] - 6s 2ms/step - loss: 0.2915 - accuracy: 0.8632 - val_loss: 0.2752 - val_accuracy: 0.8708\n",
      "Epoch 4/40\n",
      "3821/3821 [==============================] - 6s 1ms/step - loss: 0.2815 - accuracy: 0.8674 - val_loss: 0.2819 - val_accuracy: 0.8668\n",
      "Epoch 5/40\n",
      "3821/3821 [==============================] - 4s 1ms/step - loss: 0.2765 - accuracy: 0.8705 - val_loss: 0.2680 - val_accuracy: 0.8731\n",
      "Epoch 6/40\n",
      "3821/3821 [==============================] - 4s 980us/step - loss: 0.2720 - accuracy: 0.8713 - val_loss: 0.2596 - val_accuracy: 0.8779\n",
      "Epoch 7/40\n",
      "3821/3821 [==============================] - 4s 980us/step - loss: 0.2686 - accuracy: 0.8728 - val_loss: 0.2597 - val_accuracy: 0.8781\n",
      "Epoch 8/40\n",
      "3821/3821 [==============================] - 4s 1ms/step - loss: 0.2642 - accuracy: 0.8759 - val_loss: 0.2586 - val_accuracy: 0.8779\n",
      "Epoch 9/40\n",
      "3821/3821 [==============================] - 4s 998us/step - loss: 0.2619 - accuracy: 0.8765 - val_loss: 0.2576 - val_accuracy: 0.8803\n",
      "Epoch 10/40\n",
      "3821/3821 [==============================] - 4s 985us/step - loss: 0.2593 - accuracy: 0.8777 - val_loss: 0.2640 - val_accuracy: 0.8738\n",
      "Epoch 11/40\n",
      "3821/3821 [==============================] - 4s 993us/step - loss: 0.2577 - accuracy: 0.8785 - val_loss: 0.2548 - val_accuracy: 0.8802\n",
      "Epoch 12/40\n",
      "3821/3821 [==============================] - 4s 987us/step - loss: 0.2552 - accuracy: 0.8792 - val_loss: 0.2518 - val_accuracy: 0.8783\n",
      "Epoch 13/40\n",
      "3821/3821 [==============================] - 4s 1ms/step - loss: 0.2532 - accuracy: 0.8808 - val_loss: 0.2587 - val_accuracy: 0.8781\n",
      "Epoch 14/40\n",
      "3821/3821 [==============================] - 4s 991us/step - loss: 0.2522 - accuracy: 0.8816 - val_loss: 0.2477 - val_accuracy: 0.8815\n",
      "Epoch 15/40\n",
      "3821/3821 [==============================] - 4s 988us/step - loss: 0.2504 - accuracy: 0.8821 - val_loss: 0.2438 - val_accuracy: 0.8857\n",
      "Epoch 16/40\n",
      "3821/3821 [==============================] - 4s 982us/step - loss: 0.2494 - accuracy: 0.8822 - val_loss: 0.2502 - val_accuracy: 0.8842\n",
      "Epoch 17/40\n",
      "3821/3821 [==============================] - 4s 1ms/step - loss: 0.2484 - accuracy: 0.8830 - val_loss: 0.2447 - val_accuracy: 0.8850\n",
      "Epoch 18/40\n",
      "3821/3821 [==============================] - 4s 991us/step - loss: 0.2467 - accuracy: 0.8829 - val_loss: 0.2396 - val_accuracy: 0.8886\n",
      "Epoch 19/40\n",
      "3821/3821 [==============================] - 4s 972us/step - loss: 0.2461 - accuracy: 0.8835 - val_loss: 0.2447 - val_accuracy: 0.8821\n",
      "Epoch 20/40\n",
      "3821/3821 [==============================] - 4s 985us/step - loss: 0.2448 - accuracy: 0.8845 - val_loss: 0.2387 - val_accuracy: 0.8889\n",
      "Epoch 21/40\n",
      "3821/3821 [==============================] - 4s 1ms/step - loss: 0.2437 - accuracy: 0.8846 - val_loss: 0.2414 - val_accuracy: 0.8823\n",
      "Epoch 22/40\n",
      "3821/3821 [==============================] - 4s 991us/step - loss: 0.2430 - accuracy: 0.8851 - val_loss: 0.2461 - val_accuracy: 0.8830\n",
      "Epoch 23/40\n",
      "3821/3821 [==============================] - 4s 986us/step - loss: 0.2432 - accuracy: 0.8852 - val_loss: 0.2362 - val_accuracy: 0.8877\n",
      "Epoch 24/40\n",
      "3821/3821 [==============================] - 4s 989us/step - loss: 0.2413 - accuracy: 0.8852 - val_loss: 0.2366 - val_accuracy: 0.8903\n",
      "Epoch 25/40\n",
      "3821/3821 [==============================] - 4s 1ms/step - loss: 0.2396 - accuracy: 0.8868 - val_loss: 0.2429 - val_accuracy: 0.8871\n",
      "Epoch 26/40\n",
      "3821/3821 [==============================] - 4s 991us/step - loss: 0.2394 - accuracy: 0.8873 - val_loss: 0.2388 - val_accuracy: 0.8874\n",
      "Epoch 27/40\n",
      "3821/3821 [==============================] - 4s 985us/step - loss: 0.2386 - accuracy: 0.8867 - val_loss: 0.2368 - val_accuracy: 0.8873\n",
      "Epoch 28/40\n",
      "3821/3821 [==============================] - 4s 992us/step - loss: 0.2372 - accuracy: 0.8882 - val_loss: 0.2351 - val_accuracy: 0.8906\n",
      "Epoch 29/40\n",
      "3821/3821 [==============================] - 4s 1ms/step - loss: 0.2365 - accuracy: 0.8887 - val_loss: 0.2349 - val_accuracy: 0.8882\n",
      "Epoch 30/40\n",
      "3821/3821 [==============================] - 4s 1ms/step - loss: 0.2362 - accuracy: 0.8891 - val_loss: 0.2291 - val_accuracy: 0.8937\n",
      "Epoch 31/40\n",
      "3821/3821 [==============================] - 4s 975us/step - loss: 0.2362 - accuracy: 0.8888 - val_loss: 0.2460 - val_accuracy: 0.8824\n",
      "Epoch 32/40\n",
      "3821/3821 [==============================] - 4s 986us/step - loss: 0.2343 - accuracy: 0.8892 - val_loss: 0.2336 - val_accuracy: 0.8909\n",
      "Epoch 33/40\n",
      "3821/3821 [==============================] - 4s 1ms/step - loss: 0.2338 - accuracy: 0.8896 - val_loss: 0.2296 - val_accuracy: 0.8923\n",
      "Epoch 34/40\n",
      "3821/3821 [==============================] - 4s 1ms/step - loss: 0.2350 - accuracy: 0.8884 - val_loss: 0.2368 - val_accuracy: 0.8908\n",
      "Epoch 35/40\n",
      "3821/3821 [==============================] - 4s 974us/step - loss: 0.2337 - accuracy: 0.8893 - val_loss: 0.2311 - val_accuracy: 0.8905\n",
      "Epoch 36/40\n",
      "3821/3821 [==============================] - 4s 983us/step - loss: 0.2326 - accuracy: 0.8905 - val_loss: 0.2235 - val_accuracy: 0.8967\n",
      "Epoch 37/40\n",
      "3821/3821 [==============================] - 4s 977us/step - loss: 0.2327 - accuracy: 0.8904 - val_loss: 0.2274 - val_accuracy: 0.8927\n",
      "Epoch 38/40\n",
      "3821/3821 [==============================] - 4s 1ms/step - loss: 0.2316 - accuracy: 0.8909 - val_loss: 0.2250 - val_accuracy: 0.8961\n",
      "Epoch 39/40\n",
      "3821/3821 [==============================] - 4s 1ms/step - loss: 0.2317 - accuracy: 0.8910 - val_loss: 0.2414 - val_accuracy: 0.8869\n",
      "Epoch 40/40\n",
      "3821/3821 [==============================] - 4s 973us/step - loss: 0.2315 - accuracy: 0.8908 - val_loss: 0.2288 - val_accuracy: 0.8924\n"
     ]
    },
    {
     "data": {
      "image/png": "[encoded data removed]",
      "text/plain": [
       "<Figure size 640x480 with 1 Axes>"
      ]
     },
     "metadata": {},
     "output_type": "display_data"
    },
    {
     "name": "stdout",
     "output_type": "stream",
     "text": [
      "1092/1092 [==============================] - 1s 851us/step - loss: 0.2343 - accuracy: 0.8895\n",
      "Test Accuracy: 0.8894869685173035\n"
     ]
    }
   ],
   "source": [
    "import matplotlib.pyplot as plt\n",
    "\n",
    "# Train model\n",
    "history = model.fit(X_train, y_train, epochs=40, batch_size=32, validation_data=(X_val, y_val))\n",
    "\n",
    "# Plot training and validation accuracy over epochs\n",
    "plt.plot(history.history['accuracy'], label='Training Accuracy')\n",
    "plt.plot(history.history['val_accuracy'], label='Validation Accuracy')\n",
    "plt.xlabel('Epoch')\n",
    "plt.ylabel('Accuracy')\n",
    "plt.legend()\n",
    "plt.title('Training and Validation Accuracy')\n",
    "plt.show()\n",
    "\n",
    "# Evaluate model on test set\n",
    "test_loss, test_accuracy = model.evaluate(X_test, y_test)\n",
    "print(\"Test Accuracy:\", test_accuracy)"
   ]
  },
  {
   "cell_type": "markdown",
   "id": "da539e6f-75b7-4df7-b2b2-53b13148c03f",
   "metadata": {},
   "source": [
    "4. Downsample to compare to SVM"
   ]
  },
  {
   "cell_type": "code",
   "execution_count": 8,
   "id": "b077bb5b-13c7-4c8d-9d30-f6a98f465ab8",
   "metadata": {},
   "outputs": [],
   "source": [
    "# Generate 10000 random indices\n",
    "np.random.seed(7)\n",
    "random_indices = np.random.choice(len(x), size=10000, replace=False)\n",
    "\n",
    "# Select samples using the random indices\n",
    "x = x[random_indices,:]\n",
    "y = y[random_indices]"
   ]
  },
  {
   "cell_type": "code",
   "execution_count": 9,
   "id": "8d3d8d57-bbba-4819-a333-44f8060849ba",
   "metadata": {},
   "outputs": [],
   "source": [
    "# cut down on features\n",
    "# 0 and 6 were chosen from Random Forest's Feature Importance\n",
    "x = x[:,[0,6]]"
   ]
  },
  {
   "cell_type": "code",
   "execution_count": 10,
   "id": "9dee0a8e-1936-4a93-b68f-e98e4548dafe",
   "metadata": {},
   "outputs": [],
   "source": [
    "from sklearn.model_selection import train_test_split\n",
    "# Split data into Train/Test/Validation 10/90\n",
    "X_train, X_test, y_train, y_test = train_test_split(x, y, test_size=0.9, random_state=42)"
   ]
  },
  {
   "cell_type": "code",
   "execution_count": 11,
   "id": "02a425d6-8e98-420d-bd90-2b23bdf48fb0",
   "metadata": {},
   "outputs": [],
   "source": [
    "from sklearn.preprocessing import StandardScaler\n",
    "# Scale data\n",
    "scaler = StandardScaler()\n",
    "X_train = scaler.fit_transform(X_train)\n",
    "X_test = scaler.transform(X_test)"
   ]
  },
  {
   "cell_type": "code",
   "execution_count": 12,
   "id": "ff8305ce-9ca2-4134-9026-6ef6f1085ebd",
   "metadata": {},
   "outputs": [],
   "source": [
    "import tensorflow.keras as ks\n",
    "\n",
    "model = ks.Sequential([\n",
    "    ks.layers.Dense(16, activation='relu', input_shape=(x.shape[1],)),\n",
    "    ks.layers.Dense(8, activation='relu'),\n",
    "    ks.layers.Dense(8, activation='relu'),\n",
    "    ks.layers.Dense(4, activation='relu'),\n",
    "    ks.layers.Dense(1, activation='sigmoid')\n",
    "])\n",
    "\n",
    "model.compile(optimizer='adam',\n",
    "              loss='binary_crossentropy',\n",
    "              metrics=['accuracy'])"
   ]
  },
  {
   "cell_type": "code",
   "execution_count": 13,
   "id": "b8b8c71b-4691-4048-bab5-9463ae70dc1b",
   "metadata": {},
   "outputs": [
    {
     "name": "stdout",
     "output_type": "stream",
     "text": [
      "Epoch 1/40\n",
      "32/32 [==============================] - 1s 1ms/step - loss: 0.6804 - accuracy: 0.7400\n",
      "Epoch 2/40\n",
      "32/32 [==============================] - 0s 878us/step - loss: 0.6526 - accuracy: 0.7570\n",
      "Epoch 3/40\n",
      "32/32 [==============================] - 0s 1ms/step - loss: 0.6135 - accuracy: 0.7570\n",
      "Epoch 4/40\n",
      "32/32 [==============================] - 0s 897us/step - loss: 0.5749 - accuracy: 0.7570\n",
      "Epoch 5/40\n",
      "32/32 [==============================] - 0s 862us/step - loss: 0.5493 - accuracy: 0.7570\n",
      "Epoch 6/40\n",
      "32/32 [==============================] - 0s 854us/step - loss: 0.5404 - accuracy: 0.7570\n",
      "Epoch 7/40\n",
      "32/32 [==============================] - 0s 856us/step - loss: 0.5359 - accuracy: 0.7570\n",
      "Epoch 8/40\n",
      "32/32 [==============================] - 0s 901us/step - loss: 0.5315 - accuracy: 0.7570\n",
      "Epoch 9/40\n",
      "32/32 [==============================] - 0s 905us/step - loss: 0.5268 - accuracy: 0.7570\n",
      "Epoch 10/40\n",
      "32/32 [==============================] - 0s 850us/step - loss: 0.5208 - accuracy: 0.7590\n",
      "Epoch 11/40\n",
      "32/32 [==============================] - 0s 915us/step - loss: 0.5146 - accuracy: 0.7580\n",
      "Epoch 12/40\n",
      "32/32 [==============================] - 0s 920us/step - loss: 0.5091 - accuracy: 0.7700\n",
      "Epoch 13/40\n",
      "32/32 [==============================] - 0s 917us/step - loss: 0.5025 - accuracy: 0.7660\n",
      "Epoch 14/40\n",
      "32/32 [==============================] - 0s 851us/step - loss: 0.4974 - accuracy: 0.7710\n",
      "Epoch 15/40\n",
      "32/32 [==============================] - 0s 882us/step - loss: 0.4934 - accuracy: 0.7680\n",
      "Epoch 16/40\n",
      "32/32 [==============================] - 0s 862us/step - loss: 0.4906 - accuracy: 0.7620\n",
      "Epoch 17/40\n",
      "32/32 [==============================] - 0s 899us/step - loss: 0.4867 - accuracy: 0.7790\n",
      "Epoch 18/40\n",
      "32/32 [==============================] - 0s 854us/step - loss: 0.4841 - accuracy: 0.7810\n",
      "Epoch 19/40\n",
      "32/32 [==============================] - 0s 916us/step - loss: 0.4822 - accuracy: 0.7770\n",
      "Epoch 20/40\n",
      "32/32 [==============================] - 0s 883us/step - loss: 0.4787 - accuracy: 0.7790\n",
      "Epoch 21/40\n",
      "32/32 [==============================] - 0s 1ms/step - loss: 0.4757 - accuracy: 0.7790\n",
      "Epoch 22/40\n",
      "32/32 [==============================] - 0s 1ms/step - loss: 0.4736 - accuracy: 0.7800\n",
      "Epoch 23/40\n",
      "32/32 [==============================] - 0s 1ms/step - loss: 0.4720 - accuracy: 0.7800\n",
      "Epoch 24/40\n",
      "32/32 [==============================] - 0s 916us/step - loss: 0.4700 - accuracy: 0.7800\n",
      "Epoch 25/40\n",
      "32/32 [==============================] - 0s 851us/step - loss: 0.4688 - accuracy: 0.7780\n",
      "Epoch 26/40\n",
      "32/32 [==============================] - 0s 893us/step - loss: 0.4689 - accuracy: 0.7750\n",
      "Epoch 27/40\n",
      "32/32 [==============================] - 0s 902us/step - loss: 0.4647 - accuracy: 0.7830\n",
      "Epoch 28/40\n",
      "32/32 [==============================] - 0s 916us/step - loss: 0.4629 - accuracy: 0.7810\n",
      "Epoch 29/40\n",
      "32/32 [==============================] - 0s 864us/step - loss: 0.4634 - accuracy: 0.7810\n",
      "Epoch 30/40\n",
      "32/32 [==============================] - 0s 878us/step - loss: 0.4608 - accuracy: 0.7770\n",
      "Epoch 31/40\n",
      "32/32 [==============================] - 0s 884us/step - loss: 0.4599 - accuracy: 0.7860\n",
      "Epoch 32/40\n",
      "32/32 [==============================] - 0s 885us/step - loss: 0.4581 - accuracy: 0.7820\n",
      "Epoch 33/40\n",
      "32/32 [==============================] - 0s 899us/step - loss: 0.4588 - accuracy: 0.7900\n",
      "Epoch 34/40\n",
      "32/32 [==============================] - 0s 869us/step - loss: 0.4559 - accuracy: 0.7870\n",
      "Epoch 35/40\n",
      "32/32 [==============================] - 0s 869us/step - loss: 0.4556 - accuracy: 0.7860\n",
      "Epoch 36/40\n",
      "32/32 [==============================] - 0s 883us/step - loss: 0.4563 - accuracy: 0.7900\n",
      "Epoch 37/40\n",
      "32/32 [==============================] - 0s 880us/step - loss: 0.4540 - accuracy: 0.7860\n",
      "Epoch 38/40\n",
      "32/32 [==============================] - 0s 926us/step - loss: 0.4530 - accuracy: 0.7890\n",
      "Epoch 39/40\n",
      "32/32 [==============================] - 0s 861us/step - loss: 0.4531 - accuracy: 0.7870\n",
      "Epoch 40/40\n",
      "32/32 [==============================] - 0s 907us/step - loss: 0.4518 - accuracy: 0.7930\n",
      "282/282 [==============================] - 0s 739us/step - loss: 0.4858 - accuracy: 0.7740\n",
      "Test Accuracy: 0.7739999890327454\n"
     ]
    }
   ],
   "source": [
    "import matplotlib.pyplot as plt\n",
    "\n",
    "# Train model\n",
    "history = model.fit(X_train, y_train, epochs=40, batch_size=32)\n",
    "\n",
    "# Evaluate model on test set\n",
    "test_loss, test_accuracy = model.evaluate(X_test, y_test)\n",
    "print(\"Test Accuracy:\", test_accuracy)"
   ]
  },
  {
   "cell_type": "markdown",
   "id": "88a8a38b-bf01-4f5a-859f-6d3f2a4a3b84",
   "metadata": {},
   "source": [
    "## Save Neural Network Model!"
   ]
  },
  {
   "cell_type": "code",
   "execution_count": 14,
   "id": "21de97a9-5279-4b3a-b531-5e98a7d6ab08",
   "metadata": {},
   "outputs": [
    {
     "data": {
      "text/plain": [
       "['../Saved_ML_Models/ann_model.joblib']"
      ]
     },
     "execution_count": 14,
     "metadata": {},
     "output_type": "execute_result"
    }
   ],
   "source": [
    "from joblib import dump, load\n",
    "\n",
    "dump(model, '../Saved_ML_Models/ann_model.joblib') "
   ]
  }
 ],
 "metadata": {
  "kernelspec": {
   "display_name": "Python 3 (ipykernel)",
   "language": "python",
   "name": "python3"
  },
  "language_info": {
   "codemirror_mode": {
    "name": "ipython",
    "version": 3
   },
   "file_extension": ".py",
   "mimetype": "text/x-python",
   "name": "python",
   "nbconvert_exporter": "python",
   "pygments_lexer": "ipython3",
   "version": "3.8.19"
  }
 },
 "nbformat": 4,
 "nbformat_minor": 5
}
