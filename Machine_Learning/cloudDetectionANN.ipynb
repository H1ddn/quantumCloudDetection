{
 "cells": [
  {
   "cell_type": "markdown",
   "id": "65f0123f-3293-41e3-bec4-0afab233d979",
   "metadata": {},
   "source": [
    "## Neural Network Cloud Detection\n",
    "1. Data Peprocessing for Neural Network"
   ]
  },
  {
   "cell_type": "code",
   "execution_count": 1,
   "id": "3602407c-820a-4ae5-a35e-5fed783e3d31",
   "metadata": {},
   "outputs": [],
   "source": [
    "import numpy as np\n",
    "# Grab Dataset\n",
    "data = np.genfromtxt('../data.csv', delimiter=',')"
   ]
  },
  {
   "cell_type": "code",
   "execution_count": 2,
   "id": "c9ede73b-9e5e-4ac3-9cce-a4e6585ea86b",
   "metadata": {},
   "outputs": [],
   "source": [
    "# Split data into y (label) and x (features)\n",
    "y = data[:,0]\n",
    "x = data[:,1:22]\n",
    "x = np.nan_to_num(x, nan=0.0)"
   ]
  },
  {
   "cell_type": "code",
   "execution_count": 3,
   "id": "6accdaf3-4cfa-4961-a437-b7bfa2124bed",
   "metadata": {},
   "outputs": [
    {
     "name": "stdout",
     "output_type": "stream",
     "text": [
      "0.0\n"
     ]
    }
   ],
   "source": [
    "# Any multi-layer cloud labels set to 1, turn into classification [cloud, no cloud]=[1,0]\n",
    "y = np.where(y >= 1, 1, y)\n",
    "print(y[0])"
   ]
  },
  {
   "cell_type": "code",
   "execution_count": 4,
   "id": "2ca4ba4c-7955-44e6-b448-273e2cf16d29",
   "metadata": {},
   "outputs": [],
   "source": [
    "from sklearn.model_selection import train_test_split\n",
    "# Split data into Train/Test/Validation 70/20/10\n",
    "X_train, X_test, y_train, y_test = train_test_split(x, y, test_size=0.2, random_state=42)\n",
    "X_train, X_val, y_train, y_val = train_test_split(X_train, y_train, test_size=0.125, random_state=42)"
   ]
  },
  {
   "cell_type": "code",
   "execution_count": 5,
   "id": "bd17347e-58d8-462e-a930-e764643d604e",
   "metadata": {},
   "outputs": [],
   "source": [
    "from sklearn.preprocessing import StandardScaler\n",
    "# Scale data\n",
    "scaler = StandardScaler()\n",
    "X_train = scaler.fit_transform(X_train)\n",
    "X_test = scaler.transform(X_test)\n",
    "X_val = scaler.transform(X_val)"
   ]
  },
  {
   "cell_type": "markdown",
   "id": "de0ae7d2-af1f-406d-9191-cf67d4d6c6ca",
   "metadata": {},
   "source": [
    "2. Build Neural Network Model"
   ]
  },
  {
   "cell_type": "code",
   "execution_count": 6,
   "id": "1da9ea81-b483-4d87-8fff-f5fc048a047b",
   "metadata": {},
   "outputs": [],
   "source": [
    "import tensorflow.keras as ks\n",
    "\n",
    "model = ks.Sequential([\n",
    "    ks.layers.Dense(32, activation='relu', input_shape=(x.shape[1],)),\n",
    "    ks.layers.Dense(16, activation='relu'),\n",
    "    ks.layers.Dense(8, activation='relu'),\n",
    "    ks.layers.Dense(8, activation='relu'),\n",
    "    ks.layers.Dense(4, activation='relu'),\n",
    "    ks.layers.Dense(1, activation='sigmoid')\n",
    "])\n",
    "\n",
    "model.compile(optimizer='adam',\n",
    "              loss='binary_crossentropy',\n",
    "              metrics=['accuracy'])"
   ]
  },
  {
   "cell_type": "markdown",
   "id": "ed2225ff-d976-41cd-996a-9922f99272d3",
   "metadata": {},
   "source": [
    "3. Train Model"
   ]
  },
  {
   "cell_type": "code",
   "execution_count": 7,
   "id": "7d43ef8b-6d6f-4bd4-9ce4-f4a3227756b1",
   "metadata": {},
   "outputs": [
    {
     "name": "stdout",
     "output_type": "stream",
     "text": [
      "Epoch 1/40\n",
      "3821/3821 [==============================] - 5s 1ms/step - loss: 0.3683 - accuracy: 0.8226 - val_loss: 0.3216 - val_accuracy: 0.8512\n",
      "Epoch 2/40\n",
      "3821/3821 [==============================] - 4s 1ms/step - loss: 0.3166 - accuracy: 0.8519 - val_loss: 0.3156 - val_accuracy: 0.8474\n",
      "Epoch 3/40\n",
      "3821/3821 [==============================] - 4s 1ms/step - loss: 0.3035 - accuracy: 0.8572 - val_loss: 0.2949 - val_accuracy: 0.8617\n",
      "Epoch 4/40\n",
      "3821/3821 [==============================] - 4s 1ms/step - loss: 0.2925 - accuracy: 0.8630 - val_loss: 0.2781 - val_accuracy: 0.8678\n",
      "Epoch 5/40\n",
      "3821/3821 [==============================] - 4s 1ms/step - loss: 0.2855 - accuracy: 0.8652 - val_loss: 0.2716 - val_accuracy: 0.8724\n",
      "Epoch 6/40\n",
      "3821/3821 [==============================] - 4s 1ms/step - loss: 0.2798 - accuracy: 0.8686 - val_loss: 0.2717 - val_accuracy: 0.8725\n",
      "Epoch 7/40\n",
      "3821/3821 [==============================] - 4s 1ms/step - loss: 0.2753 - accuracy: 0.8703 - val_loss: 0.2648 - val_accuracy: 0.8767\n",
      "Epoch 8/40\n",
      "3821/3821 [==============================] - 4s 1ms/step - loss: 0.2707 - accuracy: 0.8729 - val_loss: 0.2603 - val_accuracy: 0.8787\n",
      "Epoch 9/40\n",
      "3821/3821 [==============================] - 4s 1ms/step - loss: 0.2675 - accuracy: 0.8744 - val_loss: 0.2610 - val_accuracy: 0.8789\n",
      "Epoch 10/40\n",
      "3821/3821 [==============================] - 4s 1ms/step - loss: 0.2653 - accuracy: 0.8741 - val_loss: 0.2697 - val_accuracy: 0.8724\n",
      "Epoch 11/40\n",
      "3821/3821 [==============================] - 4s 1ms/step - loss: 0.2627 - accuracy: 0.8762 - val_loss: 0.2552 - val_accuracy: 0.8785\n",
      "Epoch 12/40\n",
      "3821/3821 [==============================] - 4s 1ms/step - loss: 0.2608 - accuracy: 0.8772 - val_loss: 0.2466 - val_accuracy: 0.8860\n",
      "Epoch 13/40\n",
      "3821/3821 [==============================] - 4s 1ms/step - loss: 0.2588 - accuracy: 0.8782 - val_loss: 0.2553 - val_accuracy: 0.8774\n",
      "Epoch 14/40\n",
      "3821/3821 [==============================] - 4s 1ms/step - loss: 0.2562 - accuracy: 0.8791 - val_loss: 0.2467 - val_accuracy: 0.8860\n",
      "Epoch 15/40\n",
      "3821/3821 [==============================] - 4s 1ms/step - loss: 0.2543 - accuracy: 0.8803 - val_loss: 0.2515 - val_accuracy: 0.8821\n",
      "Epoch 16/40\n",
      "3821/3821 [==============================] - 4s 1ms/step - loss: 0.2535 - accuracy: 0.8807 - val_loss: 0.2452 - val_accuracy: 0.8830\n",
      "Epoch 17/40\n",
      "3821/3821 [==============================] - 4s 1ms/step - loss: 0.2513 - accuracy: 0.8817 - val_loss: 0.2806 - val_accuracy: 0.8712\n",
      "Epoch 18/40\n",
      "3821/3821 [==============================] - 4s 1ms/step - loss: 0.2503 - accuracy: 0.8819 - val_loss: 0.2448 - val_accuracy: 0.8851\n",
      "Epoch 19/40\n",
      "3821/3821 [==============================] - 5s 1ms/step - loss: 0.2491 - accuracy: 0.8830 - val_loss: 0.2459 - val_accuracy: 0.8825\n",
      "Epoch 20/40\n",
      "3821/3821 [==============================] - 4s 1ms/step - loss: 0.2487 - accuracy: 0.8828 - val_loss: 0.2416 - val_accuracy: 0.8844\n",
      "Epoch 21/40\n",
      "3821/3821 [==============================] - 4s 1ms/step - loss: 0.2474 - accuracy: 0.8838 - val_loss: 0.2520 - val_accuracy: 0.8814\n",
      "Epoch 22/40\n",
      "3821/3821 [==============================] - 4s 1ms/step - loss: 0.2469 - accuracy: 0.8841 - val_loss: 0.2344 - val_accuracy: 0.8897\n",
      "Epoch 23/40\n",
      "3821/3821 [==============================] - 4s 1ms/step - loss: 0.2465 - accuracy: 0.8846 - val_loss: 0.2437 - val_accuracy: 0.8854\n",
      "Epoch 24/40\n",
      "3821/3821 [==============================] - 4s 1ms/step - loss: 0.2459 - accuracy: 0.8844 - val_loss: 0.2508 - val_accuracy: 0.8812\n",
      "Epoch 25/40\n",
      "3821/3821 [==============================] - 4s 1ms/step - loss: 0.2437 - accuracy: 0.8855 - val_loss: 0.2399 - val_accuracy: 0.8844\n",
      "Epoch 26/40\n",
      "3821/3821 [==============================] - 5s 1ms/step - loss: 0.2431 - accuracy: 0.8854 - val_loss: 0.2523 - val_accuracy: 0.8815\n",
      "Epoch 27/40\n",
      "3821/3821 [==============================] - 5s 1ms/step - loss: 0.2423 - accuracy: 0.8862 - val_loss: 0.2411 - val_accuracy: 0.8855\n",
      "Epoch 28/40\n",
      "3821/3821 [==============================] - 4s 1ms/step - loss: 0.2413 - accuracy: 0.8870 - val_loss: 0.2452 - val_accuracy: 0.8815\n",
      "Epoch 29/40\n",
      "3821/3821 [==============================] - 4s 1ms/step - loss: 0.2409 - accuracy: 0.8869 - val_loss: 0.2337 - val_accuracy: 0.8894\n",
      "Epoch 30/40\n",
      "3821/3821 [==============================] - 5s 1ms/step - loss: 0.2398 - accuracy: 0.8878 - val_loss: 0.2348 - val_accuracy: 0.8876\n",
      "Epoch 31/40\n",
      "3821/3821 [==============================] - 4s 1ms/step - loss: 0.2383 - accuracy: 0.8880 - val_loss: 0.2380 - val_accuracy: 0.8885\n",
      "Epoch 32/40\n",
      "3821/3821 [==============================] - 4s 1ms/step - loss: 0.2390 - accuracy: 0.8879 - val_loss: 0.2368 - val_accuracy: 0.8873\n",
      "Epoch 33/40\n",
      "3821/3821 [==============================] - 4s 1ms/step - loss: 0.2381 - accuracy: 0.8890 - val_loss: 0.2321 - val_accuracy: 0.8898\n",
      "Epoch 34/40\n",
      "3821/3821 [==============================] - 4s 1ms/step - loss: 0.2379 - accuracy: 0.8889 - val_loss: 0.2424 - val_accuracy: 0.8856\n",
      "Epoch 35/40\n",
      "3821/3821 [==============================] - 4s 1ms/step - loss: 0.2364 - accuracy: 0.8890 - val_loss: 0.2336 - val_accuracy: 0.8907\n",
      "Epoch 36/40\n",
      "3821/3821 [==============================] - 4s 1ms/step - loss: 0.2365 - accuracy: 0.8892 - val_loss: 0.2413 - val_accuracy: 0.8877\n",
      "Epoch 37/40\n",
      "3821/3821 [==============================] - 5s 1ms/step - loss: 0.2356 - accuracy: 0.8898 - val_loss: 0.2343 - val_accuracy: 0.8874\n",
      "Epoch 38/40\n",
      "3821/3821 [==============================] - 4s 1ms/step - loss: 0.2349 - accuracy: 0.8897 - val_loss: 0.2350 - val_accuracy: 0.8887\n",
      "Epoch 39/40\n",
      "3821/3821 [==============================] - 4s 1ms/step - loss: 0.2342 - accuracy: 0.8902 - val_loss: 0.2372 - val_accuracy: 0.8849\n",
      "Epoch 40/40\n",
      "3821/3821 [==============================] - 5s 1ms/step - loss: 0.2347 - accuracy: 0.8892 - val_loss: 0.2332 - val_accuracy: 0.8909\n"
     ]
    },
    {
     "data": {
      "image/png": "[encoded data removed]",
      "text/plain": [
       "<Figure size 640x480 with 1 Axes>"
      ]
     },
     "metadata": {},
     "output_type": "display_data"
    },
    {
     "name": "stdout",
     "output_type": "stream",
     "text": [
      "1092/1092 [==============================] - 1s 805us/step - loss: 0.2373 - accuracy: 0.8887\n",
      "Test Accuracy: 0.8886566758155823\n"
     ]
    }
   ],
   "source": [
    "import matplotlib.pyplot as plt\n",
    "\n",
    "# Train model\n",
    "history = model.fit(X_train, y_train, epochs=40, batch_size=32, validation_data=(X_val, y_val))\n",
    "\n",
    "# Plot training and validation accuracy over epochs\n",
    "plt.plot(history.history['accuracy'], label='Training Accuracy')\n",
    "plt.plot(history.history['val_accuracy'], label='Validation Accuracy')\n",
    "plt.xlabel('Epoch')\n",
    "plt.ylabel('Accuracy')\n",
    "plt.legend()\n",
    "plt.title('Training and Validation Accuracy')\n",
    "plt.show()\n",
    "\n",
    "# Evaluate model on test set\n",
    "test_loss, test_accuracy = model.evaluate(X_test, y_test)\n",
    "print(\"Test Accuracy:\", test_accuracy)"
   ]
  },
  {
   "cell_type": "markdown",
   "id": "da539e6f-75b7-4df7-b2b2-53b13148c03f",
   "metadata": {},
   "source": [
    "4. Downsample to compare to SVM"
   ]
  },
  {
   "cell_type": "code",
   "execution_count": 8,
   "id": "b077bb5b-13c7-4c8d-9d30-f6a98f465ab8",
   "metadata": {},
   "outputs": [],
   "source": [
    "# Generate 1250 random indices\n",
    "np.random.seed(7)\n",
    "random_indices = np.random.choice(len(x), size=1250, replace=False)\n",
    "\n",
    "# Select samples using the random indices\n",
    "x = x[random_indices,:]\n",
    "y = y[random_indices]"
   ]
  },
  {
   "cell_type": "code",
   "execution_count": 9,
   "id": "8d3d8d57-bbba-4819-a333-44f8060849ba",
   "metadata": {},
   "outputs": [],
   "source": [
    "# cut down on features\n",
    "# 0 and 6 were chosen from Random Forest's Feature Importance\n",
    "x = x[:,[0,6]]"
   ]
  },
  {
   "cell_type": "code",
   "execution_count": 10,
   "id": "9dee0a8e-1936-4a93-b68f-e98e4548dafe",
   "metadata": {},
   "outputs": [],
   "source": [
    "from sklearn.model_selection import train_test_split\n",
    "# Split data into Train/Test/Validation 80/20\n",
    "X_train, X_test, y_train, y_test = train_test_split(x, y, test_size=0.2, random_state=42)"
   ]
  },
  {
   "cell_type": "code",
   "execution_count": 11,
   "id": "02a425d6-8e98-420d-bd90-2b23bdf48fb0",
   "metadata": {},
   "outputs": [],
   "source": [
    "from sklearn.preprocessing import StandardScaler\n",
    "# Scale data\n",
    "scaler = StandardScaler()\n",
    "X_train = scaler.fit_transform(X_train)\n",
    "X_test = scaler.transform(X_test)"
   ]
  },
  {
   "cell_type": "code",
   "execution_count": 13,
   "id": "ff8305ce-9ca2-4134-9026-6ef6f1085ebd",
   "metadata": {},
   "outputs": [],
   "source": [
    "import tensorflow.keras as ks\n",
    "\n",
    "model = ks.Sequential([\n",
    "    ks.layers.Dense(16, activation='relu', input_shape=(x.shape[1],)),\n",
    "    ks.layers.Dense(8, activation='relu'),\n",
    "    ks.layers.Dense(8, activation='relu'),\n",
    "    ks.layers.Dense(4, activation='relu'),\n",
    "    ks.layers.Dense(1, activation='sigmoid')\n",
    "])\n",
    "\n",
    "model.compile(optimizer='adam',\n",
    "              loss='binary_crossentropy',\n",
    "              metrics=['accuracy'])"
   ]
  },
  {
   "cell_type": "code",
   "execution_count": 14,
   "id": "b8b8c71b-4691-4048-bab5-9463ae70dc1b",
   "metadata": {},
   "outputs": [
    {
     "name": "stdout",
     "output_type": "stream",
     "text": [
      "Epoch 1/40\n",
      "32/32 [==============================] - 1s 1ms/step - loss: 0.7757 - accuracy: 0.2980\n",
      "Epoch 2/40\n",
      "32/32 [==============================] - 0s 548us/step - loss: 0.6927 - accuracy: 0.5930\n",
      "Epoch 3/40\n",
      "32/32 [==============================] - 0s 1ms/step - loss: 0.6766 - accuracy: 0.7530\n",
      "Epoch 4/40\n",
      "32/32 [==============================] - 0s 1ms/step - loss: 0.6703 - accuracy: 0.7500\n",
      "Epoch 5/40\n",
      "32/32 [==============================] - 0s 1ms/step - loss: 0.6644 - accuracy: 0.7460\n",
      "Epoch 6/40\n",
      "32/32 [==============================] - 0s 539us/step - loss: 0.6580 - accuracy: 0.7480\n",
      "Epoch 7/40\n",
      "32/32 [==============================] - 0s 1ms/step - loss: 0.6422 - accuracy: 0.7480\n",
      "Epoch 8/40\n",
      "32/32 [==============================] - 0s 1ms/step - loss: 0.6142 - accuracy: 0.7480\n",
      "Epoch 9/40\n",
      "32/32 [==============================] - 0s 1ms/step - loss: 0.5810 - accuracy: 0.7460\n",
      "Epoch 10/40\n",
      "32/32 [==============================] - 0s 1ms/step - loss: 0.5491 - accuracy: 0.7470\n",
      "Epoch 11/40\n",
      "32/32 [==============================] - 0s 1ms/step - loss: 0.5297 - accuracy: 0.7460\n",
      "Epoch 12/40\n",
      "32/32 [==============================] - 0s 1ms/step - loss: 0.5204 - accuracy: 0.7510\n",
      "Epoch 13/40\n",
      "32/32 [==============================] - 0s 1ms/step - loss: 0.5122 - accuracy: 0.7560\n",
      "Epoch 14/40\n",
      "32/32 [==============================] - 0s 1ms/step - loss: 0.5088 - accuracy: 0.7540\n",
      "Epoch 15/40\n",
      "32/32 [==============================] - 0s 2ms/step - loss: 0.5010 - accuracy: 0.7640\n",
      "Epoch 16/40\n",
      "32/32 [==============================] - 0s 549us/step - loss: 0.4931 - accuracy: 0.7690\n",
      "Epoch 17/40\n",
      "32/32 [==============================] - 0s 2ms/step - loss: 0.4885 - accuracy: 0.7640\n",
      "Epoch 18/40\n",
      "32/32 [==============================] - 0s 1ms/step - loss: 0.4831 - accuracy: 0.7720\n",
      "Epoch 19/40\n",
      "32/32 [==============================] - 0s 1ms/step - loss: 0.4801 - accuracy: 0.7680\n",
      "Epoch 20/40\n",
      "32/32 [==============================] - 0s 778us/step - loss: 0.4767 - accuracy: 0.7740\n",
      "Epoch 21/40\n",
      "32/32 [==============================] - 0s 1ms/step - loss: 0.4747 - accuracy: 0.7750\n",
      "Epoch 22/40\n",
      "32/32 [==============================] - 0s 1ms/step - loss: 0.4709 - accuracy: 0.7700\n",
      "Epoch 23/40\n",
      "32/32 [==============================] - 0s 1ms/step - loss: 0.4702 - accuracy: 0.7770\n",
      "Epoch 24/40\n",
      "32/32 [==============================] - 0s 1ms/step - loss: 0.4689 - accuracy: 0.7730\n",
      "Epoch 25/40\n",
      "32/32 [==============================] - 0s 1ms/step - loss: 0.4690 - accuracy: 0.7730\n",
      "Epoch 26/40\n",
      "32/32 [==============================] - 0s 1ms/step - loss: 0.4656 - accuracy: 0.7710\n",
      "Epoch 27/40\n",
      "32/32 [==============================] - 0s 2ms/step - loss: 0.4635 - accuracy: 0.7780\n",
      "Epoch 28/40\n",
      "32/32 [==============================] - 0s 1ms/step - loss: 0.4622 - accuracy: 0.7740\n",
      "Epoch 29/40\n",
      "32/32 [==============================] - 0s 2ms/step - loss: 0.4601 - accuracy: 0.7760\n",
      "Epoch 30/40\n",
      "32/32 [==============================] - 0s 1ms/step - loss: 0.4592 - accuracy: 0.7760\n",
      "Epoch 31/40\n",
      "32/32 [==============================] - 0s 910us/step - loss: 0.4599 - accuracy: 0.7790\n",
      "Epoch 32/40\n",
      "32/32 [==============================] - 0s 2ms/step - loss: 0.4574 - accuracy: 0.7750\n",
      "Epoch 33/40\n",
      "32/32 [==============================] - 0s 1ms/step - loss: 0.4582 - accuracy: 0.7760\n",
      "Epoch 34/40\n",
      "32/32 [==============================] - 0s 1ms/step - loss: 0.4568 - accuracy: 0.7740\n",
      "Epoch 35/40\n",
      "32/32 [==============================] - 0s 1ms/step - loss: 0.4567 - accuracy: 0.7660\n",
      "Epoch 36/40\n",
      "32/32 [==============================] - 0s 2ms/step - loss: 0.4567 - accuracy: 0.7670\n",
      "Epoch 37/40\n",
      "32/32 [==============================] - 0s 2ms/step - loss: 0.4561 - accuracy: 0.7760\n",
      "Epoch 38/40\n",
      "32/32 [==============================] - 0s 2ms/step - loss: 0.4565 - accuracy: 0.7760\n",
      "Epoch 39/40\n",
      "32/32 [==============================] - 0s 1ms/step - loss: 0.4536 - accuracy: 0.7730\n",
      "Epoch 40/40\n",
      "32/32 [==============================] - 0s 1ms/step - loss: 0.4531 - accuracy: 0.7780\n",
      "8/8 [==============================] - 0s 2ms/step - loss: 0.5175 - accuracy: 0.7600\n",
      "Test Accuracy: 0.7599999904632568\n"
     ]
    }
   ],
   "source": [
    "import matplotlib.pyplot as plt\n",
    "\n",
    "# Train model\n",
    "history = model.fit(X_train, y_train, epochs=40, batch_size=32)\n",
    "\n",
    "# Evaluate model on test set\n",
    "test_loss, test_accuracy = model.evaluate(X_test, y_test)\n",
    "print(\"Test Accuracy:\", test_accuracy)"
   ]
  }
 ],
 "metadata": {
  "kernelspec": {
   "display_name": "Python 3 (ipykernel)",
   "language": "python",
   "name": "python3"
  },
  "language_info": {
   "codemirror_mode": {
    "name": "ipython",
    "version": 3
   },
   "file_extension": ".py",
   "mimetype": "text/x-python",
   "name": "python",
   "nbconvert_exporter": "python",
   "pygments_lexer": "ipython3",
   "version": "3.8.19"
  }
 },
 "nbformat": 4,
 "nbformat_minor": 5
}
