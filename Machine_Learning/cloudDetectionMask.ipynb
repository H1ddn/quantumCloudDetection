{
 "cells": [
  {
   "cell_type": "markdown",
   "id": "2eaf4d73-446f-4f5f-8645-75e1e9b743e8",
   "metadata": {},
   "source": [
    "## MODIS Cloud Mask vs CloudSat Calipso\n",
    "Confident Clear & Undetermined = 0\n",
    "\n",
    "Probably Cloudy & Confident Cloudy = 1"
   ]
  },
  {
   "cell_type": "code",
   "execution_count": 1,
   "id": "8d02e264-1ceb-4e5e-bedf-5a73bb164d35",
   "metadata": {},
   "outputs": [],
   "source": [
    "import numpy as np\n",
    "# Gather Data\n",
    "data = np.genfromtxt('../modMaskData.csv', delimiter=',')"
   ]
  },
  {
   "cell_type": "code",
   "execution_count": 2,
   "id": "66dcd1c9-0d62-47a0-b3bd-141efb1c2a13",
   "metadata": {},
   "outputs": [
    {
     "name": "stdout",
     "output_type": "stream",
     "text": [
      "Accuracy: 0.4540446755269502\n"
     ]
    }
   ],
   "source": [
    "from sklearn.metrics import accuracy_score\n",
    "# y = CloudSat Calipso\n",
    "# x = MODIS\n",
    "y = data[:,0]\n",
    "x = data[:,1]\n",
    "\n",
    "# Compare\n",
    "accuracy = accuracy_score(y, x)\n",
    "print(\"Accuracy:\", accuracy)"
   ]
  }
 ],
 "metadata": {
  "kernelspec": {
   "display_name": "Python 3 (ipykernel)",
   "language": "python",
   "name": "python3"
  },
  "language_info": {
   "codemirror_mode": {
    "name": "ipython",
    "version": 3
   },
   "file_extension": ".py",
   "mimetype": "text/x-python",
   "name": "python",
   "nbconvert_exporter": "python",
   "pygments_lexer": "ipython3",
   "version": "3.8.19"
  }
 },
 "nbformat": 4,
 "nbformat_minor": 5
}
