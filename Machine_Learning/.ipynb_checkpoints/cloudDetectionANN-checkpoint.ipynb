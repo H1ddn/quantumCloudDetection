{
 "cells": [
  {
   "cell_type": "markdown",
   "id": "65f0123f-3293-41e3-bec4-0afab233d979",
   "metadata": {},
   "source": [
    "## Neural Network Cloud Detection\n",
    "1. Data Peprocessing for Neural Network"
   ]
  },
  {
   "cell_type": "code",
   "execution_count": 1,
   "id": "3602407c-820a-4ae5-a35e-5fed783e3d31",
   "metadata": {},
   "outputs": [],
   "source": [
    "import numpy as np\n",
    "# Grab Dataset\n",
    "data = np.genfromtxt('../data.csv', delimiter=',')"
   ]
  },
  {
   "cell_type": "code",
   "execution_count": 2,
   "id": "c9ede73b-9e5e-4ac3-9cce-a4e6585ea86b",
   "metadata": {},
   "outputs": [],
   "source": [
    "# Split data into y (label) and x (features)\n",
    "y = data[:,0]\n",
    "x = data[:,1]\n",
    "x = np.nan_to_num(x, nan=0.0)"
   ]
  },
  {
   "cell_type": "code",
   "execution_count": 3,
   "id": "6accdaf3-4cfa-4961-a437-b7bfa2124bed",
   "metadata": {},
   "outputs": [
    {
     "name": "stdout",
     "output_type": "stream",
     "text": [
      "0.0\n"
     ]
    }
   ],
   "source": [
    "# Any multi-layer cloud labels set to 1, turn into classification [cloud, no cloud]=[1,0]\n",
    "y = np.where(y >= 1, 1, y)\n",
    "print(y[0])"
   ]
  },
  {
   "cell_type": "code",
   "execution_count": 4,
   "id": "2ca4ba4c-7955-44e6-b448-273e2cf16d29",
   "metadata": {},
   "outputs": [],
   "source": [
    "from sklearn.model_selection import train_test_split\n",
    "# Split data into Train/Test/Validation 70/20/10\n",
    "X_train, X_test, y_train, y_test = train_test_split(x, y, test_size=0.2, random_state=42)\n",
    "X_train, X_val, y_train, y_val = train_test_split(X_train, y_train, test_size=0.125, random_state=42)"
   ]
  },
  {
   "cell_type": "code",
   "execution_count": 5,
   "id": "bd17347e-58d8-462e-a930-e764643d604e",
   "metadata": {},
   "outputs": [],
   "source": [
    "from sklearn.preprocessing import StandardScaler\n",
    "# Scale data\n",
    "scaler = StandardScaler()\n",
    "X_train = scaler.fit_transform(X_train)\n",
    "X_test = scaler.transform(X_test)\n",
    "X_val = scaler.transform(X_val)"
   ]
  },
  {
   "cell_type": "markdown",
   "id": "de0ae7d2-af1f-406d-9191-cf67d4d6c6ca",
   "metadata": {},
   "source": [
    "2. Build Neural Network Model"
   ]
  },
  {
   "cell_type": "code",
   "execution_count": 6,
   "id": "1da9ea81-b483-4d87-8fff-f5fc048a047b",
   "metadata": {},
   "outputs": [],
   "source": [
    "import tensorflow.keras as ks\n",
    "\n",
    "model = ks.Sequential([\n",
    "    ks.layers.Dense(32, activation='relu', input_shape=(x.shape[1],)),\n",
    "    ks.layers.Dense(16, activation='relu'),\n",
    "    ks.layers.Dense(8, activation='relu'),\n",
    "    ks.layers.Dense(8, activation='relu'),\n",
    "    ks.layers.Dense(4, activation='relu'),\n",
    "    ks.layers.Dense(1, activation='sigmoid')\n",
    "])\n",
    "\n",
    "model.compile(optimizer='adam',\n",
    "              loss='binary_crossentropy',\n",
    "              metrics=['accuracy'])"
   ]
  },
  {
   "cell_type": "markdown",
   "id": "ed2225ff-d976-41cd-996a-9922f99272d3",
   "metadata": {},
   "source": [
    "3. Train Model"
   ]
  },
  {
   "cell_type": "code",
   "execution_count": 7,
   "id": "7d43ef8b-6d6f-4bd4-9ce4-f4a3227756b1",
   "metadata": {},
   "outputs": [
    {
     "name": "stdout",
     "output_type": "stream",
     "text": [
      "Epoch 1/40\n",
      "3821/3821 [==============================] - 9s 2ms/step - loss: 0.3517 - accuracy: 0.8327 - val_loss: 0.3151 - val_accuracy: 0.8439\n",
      "Epoch 2/40\n",
      "3821/3821 [==============================] - 6s 2ms/step - loss: 0.3053 - accuracy: 0.8546 - val_loss: 0.2876 - val_accuracy: 0.8607\n",
      "Epoch 3/40\n",
      "3821/3821 [==============================] - 7s 2ms/step - loss: 0.2974 - accuracy: 0.8584 - val_loss: 0.2823 - val_accuracy: 0.8642\n",
      "Epoch 4/40\n",
      "3821/3821 [==============================] - 9s 2ms/step - loss: 0.2908 - accuracy: 0.8610 - val_loss: 0.2936 - val_accuracy: 0.8602\n",
      "Epoch 5/40\n",
      "3821/3821 [==============================] - 10s 3ms/step - loss: 0.2847 - accuracy: 0.8646 - val_loss: 0.2722 - val_accuracy: 0.8682\n",
      "Epoch 6/40\n",
      "3821/3821 [==============================] - 9s 2ms/step - loss: 0.2802 - accuracy: 0.8666 - val_loss: 0.2964 - val_accuracy: 0.8577\n",
      "Epoch 7/40\n",
      "3821/3821 [==============================] - 7s 2ms/step - loss: 0.2763 - accuracy: 0.8674 - val_loss: 0.2738 - val_accuracy: 0.8692\n",
      "Epoch 8/40\n",
      "3821/3821 [==============================] - 9s 2ms/step - loss: 0.2735 - accuracy: 0.8693 - val_loss: 0.2680 - val_accuracy: 0.8709\n",
      "Epoch 9/40\n",
      "3821/3821 [==============================] - 6s 2ms/step - loss: 0.2703 - accuracy: 0.8715 - val_loss: 0.2622 - val_accuracy: 0.8757\n",
      "Epoch 10/40\n",
      "3821/3821 [==============================] - 8s 2ms/step - loss: 0.2691 - accuracy: 0.8713 - val_loss: 0.2781 - val_accuracy: 0.8666\n",
      "Epoch 11/40\n",
      "3821/3821 [==============================] - 10s 3ms/step - loss: 0.2658 - accuracy: 0.8740 - val_loss: 0.2609 - val_accuracy: 0.8739\n",
      "Epoch 12/40\n",
      "3821/3821 [==============================] - 7s 2ms/step - loss: 0.2641 - accuracy: 0.8745 - val_loss: 0.2613 - val_accuracy: 0.8732\n",
      "Epoch 13/40\n",
      "3821/3821 [==============================] - 7s 2ms/step - loss: 0.2618 - accuracy: 0.8749 - val_loss: 0.2534 - val_accuracy: 0.8771\n",
      "Epoch 14/40\n",
      "3821/3821 [==============================] - 8s 2ms/step - loss: 0.2605 - accuracy: 0.8752 - val_loss: 0.2598 - val_accuracy: 0.8716\n",
      "Epoch 15/40\n",
      "3821/3821 [==============================] - 7s 2ms/step - loss: 0.2587 - accuracy: 0.8764 - val_loss: 0.2576 - val_accuracy: 0.8747\n",
      "Epoch 16/40\n",
      "3821/3821 [==============================] - 8s 2ms/step - loss: 0.2570 - accuracy: 0.8763 - val_loss: 0.2503 - val_accuracy: 0.8773\n",
      "Epoch 17/40\n",
      "3821/3821 [==============================] - 8s 2ms/step - loss: 0.2548 - accuracy: 0.8769 - val_loss: 0.2575 - val_accuracy: 0.8756\n",
      "Epoch 18/40\n",
      "3821/3821 [==============================] - 8s 2ms/step - loss: 0.2529 - accuracy: 0.8793 - val_loss: 0.2462 - val_accuracy: 0.8830\n",
      "Epoch 19/40\n",
      "3821/3821 [==============================] - 9s 2ms/step - loss: 0.2517 - accuracy: 0.8802 - val_loss: 0.2546 - val_accuracy: 0.8775\n",
      "Epoch 20/40\n",
      "3821/3821 [==============================] - 9s 2ms/step - loss: 0.2505 - accuracy: 0.8795 - val_loss: 0.2436 - val_accuracy: 0.8834\n",
      "Epoch 21/40\n",
      "3821/3821 [==============================] - 11s 3ms/step - loss: 0.2488 - accuracy: 0.8819 - val_loss: 0.2542 - val_accuracy: 0.8791\n",
      "Epoch 22/40\n",
      "3821/3821 [==============================] - 7s 2ms/step - loss: 0.2482 - accuracy: 0.8806 - val_loss: 0.2459 - val_accuracy: 0.8816\n",
      "Epoch 23/40\n",
      "3821/3821 [==============================] - 9s 2ms/step - loss: 0.2470 - accuracy: 0.8812 - val_loss: 0.2428 - val_accuracy: 0.8809\n",
      "Epoch 24/40\n",
      "3821/3821 [==============================] - 9s 2ms/step - loss: 0.2461 - accuracy: 0.8813 - val_loss: 0.2563 - val_accuracy: 0.8771\n",
      "Epoch 25/40\n",
      "3821/3821 [==============================] - 8s 2ms/step - loss: 0.2441 - accuracy: 0.8828 - val_loss: 0.2406 - val_accuracy: 0.8818\n",
      "Epoch 26/40\n",
      "3821/3821 [==============================] - 8s 2ms/step - loss: 0.2446 - accuracy: 0.8833 - val_loss: 0.2377 - val_accuracy: 0.8836\n",
      "Epoch 27/40\n",
      "3821/3821 [==============================] - 8s 2ms/step - loss: 0.2430 - accuracy: 0.8833 - val_loss: 0.2388 - val_accuracy: 0.8828\n",
      "Epoch 28/40\n",
      "3821/3821 [==============================] - 15s 4ms/step - loss: 0.2428 - accuracy: 0.8838 - val_loss: 0.2444 - val_accuracy: 0.8820\n",
      "Epoch 29/40\n",
      "3821/3821 [==============================] - 5s 1ms/step - loss: 0.2420 - accuracy: 0.8839 - val_loss: 0.2450 - val_accuracy: 0.8795\n",
      "Epoch 30/40\n",
      "3821/3821 [==============================] - 4s 977us/step - loss: 0.2403 - accuracy: 0.8837 - val_loss: 0.2410 - val_accuracy: 0.8793\n",
      "Epoch 31/40\n",
      "3821/3821 [==============================] - 4s 1ms/step - loss: 0.2404 - accuracy: 0.8842 - val_loss: 0.2420 - val_accuracy: 0.8871\n",
      "Epoch 32/40\n",
      "3821/3821 [==============================] - 4s 986us/step - loss: 0.2392 - accuracy: 0.8847 - val_loss: 0.2521 - val_accuracy: 0.8770\n",
      "Epoch 33/40\n",
      "3821/3821 [==============================] - 4s 989us/step - loss: 0.2384 - accuracy: 0.8843 - val_loss: 0.2383 - val_accuracy: 0.8843\n",
      "Epoch 34/40\n",
      "3821/3821 [==============================] - 4s 979us/step - loss: 0.2382 - accuracy: 0.8856 - val_loss: 0.2297 - val_accuracy: 0.8867\n",
      "Epoch 35/40\n",
      "3821/3821 [==============================] - 4s 987us/step - loss: 0.2362 - accuracy: 0.8849 - val_loss: 0.2290 - val_accuracy: 0.8861\n",
      "Epoch 36/40\n",
      "3821/3821 [==============================] - 4s 1000us/step - loss: 0.2364 - accuracy: 0.8850 - val_loss: 0.2415 - val_accuracy: 0.8781\n",
      "Epoch 37/40\n",
      "3821/3821 [==============================] - 4s 997us/step - loss: 0.2342 - accuracy: 0.8865 - val_loss: 0.2190 - val_accuracy: 0.8899\n",
      "Epoch 38/40\n",
      "3821/3821 [==============================] - 4s 988us/step - loss: 0.2340 - accuracy: 0.8862 - val_loss: 0.2219 - val_accuracy: 0.8861\n",
      "Epoch 39/40\n",
      "3821/3821 [==============================] - 4s 992us/step - loss: 0.2323 - accuracy: 0.8864 - val_loss: 0.2195 - val_accuracy: 0.8893\n",
      "Epoch 40/40\n",
      "3821/3821 [==============================] - 4s 1ms/step - loss: 0.2321 - accuracy: 0.8865 - val_loss: 0.2225 - val_accuracy: 0.8893\n"
     ]
    },
    {
     "data": {
      "image/png": "[encoded data removed]",
      "text/plain": [
       "<Figure size 640x480 with 1 Axes>"
      ]
     },
     "metadata": {},
     "output_type": "display_data"
    },
    {
     "name": "stdout",
     "output_type": "stream",
     "text": [
      "1092/1092 [==============================] - 1s 774us/step - loss: 0.2374 - accuracy: 0.8863\n",
      "Test Accuracy: 0.8863376379013062\n"
     ]
    }
   ],
   "source": [
    "import matplotlib.pyplot as plt\n",
    "\n",
    "# Train model\n",
    "history = model.fit(X_train, y_train, epochs=40, batch_size=32, validation_data=(X_val, y_val))\n",
    "\n",
    "# Plot training and validation accuracy over epochs\n",
    "plt.plot(history.history['accuracy'], label='Training Accuracy')\n",
    "plt.plot(history.history['val_accuracy'], label='Validation Accuracy')\n",
    "plt.xlabel('Epoch')\n",
    "plt.ylabel('Accuracy')\n",
    "plt.legend()\n",
    "plt.title('Training and Validation Accuracy')\n",
    "plt.show()\n",
    "\n",
    "# Evaluate model on test set\n",
    "test_loss, test_accuracy = model.evaluate(X_test, y_test)\n",
    "print(\"Test Accuracy:\", test_accuracy)"
   ]
  },
  {
   "cell_type": "markdown",
   "id": "da539e6f-75b7-4df7-b2b2-53b13148c03f",
   "metadata": {},
   "source": [
    "4. Downsample to compare to SVM"
   ]
  },
  {
   "cell_type": "code",
   "execution_count": 8,
   "id": "b077bb5b-13c7-4c8d-9d30-f6a98f465ab8",
   "metadata": {},
   "outputs": [],
   "source": [
    "# Generate 10000 random indices\n",
    "np.random.seed(7)\n",
    "random_indices = np.random.choice(len(x), size=10000, replace=False)\n",
    "\n",
    "# Select samples using the random indices\n",
    "x = x[random_indices,:]\n",
    "y = y[random_indices]"
   ]
  },
  {
   "cell_type": "code",
   "execution_count": 9,
   "id": "8d3d8d57-bbba-4819-a333-44f8060849ba",
   "metadata": {},
   "outputs": [],
   "source": [
    "# cut down on features\n",
    "# 0 and 6 were chosen from Random Forest's Feature Importance\n",
    "x = x[:,[0,6]]"
   ]
  },
  {
   "cell_type": "code",
   "execution_count": 10,
   "id": "9dee0a8e-1936-4a93-b68f-e98e4548dafe",
   "metadata": {},
   "outputs": [],
   "source": [
    "from sklearn.model_selection import train_test_split\n",
    "# Split data into Train/Test/Validation 10/90\n",
    "X_train, X_test, y_train, y_test = train_test_split(x, y, test_size=0.9, random_state=42)"
   ]
  },
  {
   "cell_type": "code",
   "execution_count": 11,
   "id": "02a425d6-8e98-420d-bd90-2b23bdf48fb0",
   "metadata": {},
   "outputs": [],
   "source": [
    "from sklearn.preprocessing import StandardScaler\n",
    "# Scale data\n",
    "scaler = StandardScaler()\n",
    "X_train = scaler.fit_transform(X_train)\n",
    "X_test = scaler.transform(X_test)"
   ]
  },
  {
   "cell_type": "code",
   "execution_count": 12,
   "id": "ff8305ce-9ca2-4134-9026-6ef6f1085ebd",
   "metadata": {},
   "outputs": [],
   "source": [
    "import tensorflow.keras as ks\n",
    "\n",
    "model = ks.Sequential([\n",
    "    ks.layers.Dense(16, activation='relu', input_shape=(x.shape[1],)),\n",
    "    ks.layers.Dense(8, activation='relu'),\n",
    "    ks.layers.Dense(8, activation='relu'),\n",
    "    ks.layers.Dense(4, activation='relu'),\n",
    "    ks.layers.Dense(1, activation='sigmoid')\n",
    "])\n",
    "\n",
    "model.compile(optimizer='adam',\n",
    "              loss='binary_crossentropy',\n",
    "              metrics=['accuracy'])"
   ]
  },
  {
   "cell_type": "code",
   "execution_count": 13,
   "id": "b8b8c71b-4691-4048-bab5-9463ae70dc1b",
   "metadata": {},
   "outputs": [
    {
     "name": "stdout",
     "output_type": "stream",
     "text": [
      "Epoch 1/40\n",
      "32/32 [==============================] - 1s 1ms/step - loss: 0.7472 - accuracy: 0.3620\n",
      "Epoch 2/40\n",
      "32/32 [==============================] - 0s 1ms/step - loss: 0.6867 - accuracy: 0.6330\n",
      "Epoch 3/40\n",
      "32/32 [==============================] - 0s 1ms/step - loss: 0.6525 - accuracy: 0.7550\n",
      "Epoch 4/40\n",
      "32/32 [==============================] - 0s 1ms/step - loss: 0.6276 - accuracy: 0.7580\n",
      "Epoch 5/40\n",
      "32/32 [==============================] - 0s 1ms/step - loss: 0.6035 - accuracy: 0.7580\n",
      "Epoch 6/40\n",
      "32/32 [==============================] - 0s 802us/step - loss: 0.5756 - accuracy: 0.7590\n",
      "Epoch 7/40\n",
      "32/32 [==============================] - 0s 604us/step - loss: 0.5494 - accuracy: 0.7580\n",
      "Epoch 8/40\n",
      "32/32 [==============================] - 0s 566us/step - loss: 0.5317 - accuracy: 0.7580\n",
      "Epoch 9/40\n",
      "32/32 [==============================] - 0s 726us/step - loss: 0.5220 - accuracy: 0.7590\n",
      "Epoch 10/40\n",
      "32/32 [==============================] - 0s 1ms/step - loss: 0.5155 - accuracy: 0.7610\n",
      "Epoch 11/40\n",
      "32/32 [==============================] - 0s 1ms/step - loss: 0.5109 - accuracy: 0.7590\n",
      "Epoch 12/40\n",
      "32/32 [==============================] - 0s 1ms/step - loss: 0.5069 - accuracy: 0.7690\n",
      "Epoch 13/40\n",
      "32/32 [==============================] - 0s 979us/step - loss: 0.5033 - accuracy: 0.7610\n",
      "Epoch 14/40\n",
      "32/32 [==============================] - 0s 1ms/step - loss: 0.4990 - accuracy: 0.7720\n",
      "Epoch 15/40\n",
      "32/32 [==============================] - 0s 1ms/step - loss: 0.4962 - accuracy: 0.7730\n",
      "Epoch 16/40\n",
      "32/32 [==============================] - 0s 1ms/step - loss: 0.4933 - accuracy: 0.7780\n",
      "Epoch 17/40\n",
      "32/32 [==============================] - 0s 1ms/step - loss: 0.4896 - accuracy: 0.7670\n",
      "Epoch 18/40\n",
      "32/32 [==============================] - 0s 1ms/step - loss: 0.4870 - accuracy: 0.7830\n",
      "Epoch 19/40\n",
      "32/32 [==============================] - 0s 1ms/step - loss: 0.4845 - accuracy: 0.7750\n",
      "Epoch 20/40\n",
      "32/32 [==============================] - 0s 1ms/step - loss: 0.4813 - accuracy: 0.7770\n",
      "Epoch 21/40\n",
      "32/32 [==============================] - 0s 1ms/step - loss: 0.4786 - accuracy: 0.7860\n",
      "Epoch 22/40\n",
      "32/32 [==============================] - 0s 1ms/step - loss: 0.4759 - accuracy: 0.7830\n",
      "Epoch 23/40\n",
      "32/32 [==============================] - 0s 1ms/step - loss: 0.4735 - accuracy: 0.7820\n",
      "Epoch 24/40\n",
      "32/32 [==============================] - 0s 2ms/step - loss: 0.4704 - accuracy: 0.7830\n",
      "Epoch 25/40\n",
      "32/32 [==============================] - 0s 933us/step - loss: 0.4705 - accuracy: 0.7810\n",
      "Epoch 26/40\n",
      "32/32 [==============================] - 0s 979us/step - loss: 0.4699 - accuracy: 0.7800\n",
      "Epoch 27/40\n",
      "32/32 [==============================] - 0s 980us/step - loss: 0.4668 - accuracy: 0.7840\n",
      "Epoch 28/40\n",
      "32/32 [==============================] - 0s 979us/step - loss: 0.4653 - accuracy: 0.7840\n",
      "Epoch 29/40\n",
      "32/32 [==============================] - 0s 947us/step - loss: 0.4622 - accuracy: 0.7880\n",
      "Epoch 30/40\n",
      "32/32 [==============================] - 0s 1ms/step - loss: 0.4604 - accuracy: 0.7860\n",
      "Epoch 31/40\n",
      "32/32 [==============================] - 0s 979us/step - loss: 0.4617 - accuracy: 0.7870\n",
      "Epoch 32/40\n",
      "32/32 [==============================] - 0s 1ms/step - loss: 0.4577 - accuracy: 0.7890\n",
      "Epoch 33/40\n",
      "32/32 [==============================] - 0s 1ms/step - loss: 0.4565 - accuracy: 0.7840\n",
      "Epoch 34/40\n",
      "32/32 [==============================] - 0s 980us/step - loss: 0.4563 - accuracy: 0.7850\n",
      "Epoch 35/40\n",
      "32/32 [==============================] - 0s 980us/step - loss: 0.4555 - accuracy: 0.7920\n",
      "Epoch 36/40\n",
      "32/32 [==============================] - 0s 979us/step - loss: 0.4538 - accuracy: 0.7870\n",
      "Epoch 37/40\n",
      "32/32 [==============================] - 0s 762us/step - loss: 0.4527 - accuracy: 0.7880\n",
      "Epoch 38/40\n",
      "32/32 [==============================] - 0s 589us/step - loss: 0.4529 - accuracy: 0.7840\n",
      "Epoch 39/40\n",
      "32/32 [==============================] - 0s 553us/step - loss: 0.4519 - accuracy: 0.7830\n",
      "Epoch 40/40\n",
      "32/32 [==============================] - 0s 979us/step - loss: 0.4507 - accuracy: 0.7840\n",
      "282/282 [==============================] - 0s 667us/step - loss: 0.4751 - accuracy: 0.7733\n",
      "Test Accuracy: 0.7733333110809326\n"
     ]
    }
   ],
   "source": [
    "import matplotlib.pyplot as plt\n",
    "\n",
    "# Train model\n",
    "history = model.fit(X_train, y_train, epochs=40, batch_size=32)\n",
    "\n",
    "# Evaluate model on test set\n",
    "test_loss, test_accuracy = model.evaluate(X_test, y_test)\n",
    "print(\"Test Accuracy:\", test_accuracy)"
   ]
  }
 ],
 "metadata": {
  "kernelspec": {
   "display_name": "Python 3 (ipykernel)",
   "language": "python",
   "name": "python3"
  },
  "language_info": {
   "codemirror_mode": {
    "name": "ipython",
    "version": 3
   },
   "file_extension": ".py",
   "mimetype": "text/x-python",
   "name": "python",
   "nbconvert_exporter": "python",
   "pygments_lexer": "ipython3",
   "version": "3.8.19"
  }
 },
 "nbformat": 4,
 "nbformat_minor": 5
}
