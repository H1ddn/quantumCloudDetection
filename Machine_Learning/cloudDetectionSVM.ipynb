{
 "cells": [
  {
   "cell_type": "markdown",
   "id": "79dab11c-228c-4c68-a168-20a8e43529cb",
   "metadata": {},
   "source": [
    "# Support Vector Machine Cloud Detection\n",
    "1. Data Preprocessing"
   ]
  },
  {
   "cell_type": "code",
   "execution_count": 1,
   "id": "fc6dc247-31df-4303-9d53-d41f757c77a2",
   "metadata": {},
   "outputs": [],
   "source": [
    "import numpy as np\n",
    "# Grab Dataset\n",
    "data = np.genfromtxt('../data.csv', delimiter=',')"
   ]
  },
  {
   "cell_type": "code",
   "execution_count": 2,
   "id": "c14e54f2-dec7-4c92-9a3c-97c7e0df20d4",
   "metadata": {},
   "outputs": [],
   "source": [
    "# Split data into y (label) and x (features)\n",
    "y = data[:,0]\n",
    "x = data[:,1:22]\n",
    "x = np.nan_to_num(x, nan=0.0)"
   ]
  },
  {
   "cell_type": "code",
   "execution_count": 3,
   "id": "83954d86-377e-430d-82d3-56f7dcd741d1",
   "metadata": {},
   "outputs": [
    {
     "name": "stdout",
     "output_type": "stream",
     "text": [
      "0.0\n"
     ]
    }
   ],
   "source": [
    "# Any multi-layer cloud labels set to 1, turn into classification [cloud, no cloud]=[1,0]\n",
    "y = np.where(y >= 1, 1, y)\n",
    "print(y[0])"
   ]
  },
  {
   "cell_type": "code",
   "execution_count": 4,
   "id": "42b3bc3d-35ed-41b8-ac7a-e35e38280300",
   "metadata": {},
   "outputs": [],
   "source": [
    "# Generate 1250 random indices\n",
    "np.random.seed(7)\n",
    "random_indices = np.random.choice(len(x), size=1250, replace=False)\n",
    "\n",
    "# Select samples using the random indices\n",
    "x = x[random_indices,:]\n",
    "y = y[random_indices]"
   ]
  },
  {
   "cell_type": "code",
   "execution_count": 5,
   "id": "15cb87e7-c779-4f38-94b4-b04c03f91892",
   "metadata": {},
   "outputs": [],
   "source": [
    "# cut down on features\n",
    "# 0 and 6 were chosen from Random Forest's Feature Importance\n",
    "x = x[:,[0,6]]"
   ]
  },
  {
   "cell_type": "code",
   "execution_count": 6,
   "id": "f57ff973-56af-4d43-b160-5cd6cc136cfd",
   "metadata": {},
   "outputs": [],
   "source": [
    "from sklearn.model_selection import train_test_split\n",
    "# Split data into Train/Test/Validation 80/20\n",
    "X_train, X_test, y_train, y_test = train_test_split(x, y, test_size=0.2, random_state=42)"
   ]
  },
  {
   "cell_type": "code",
   "execution_count": 7,
   "id": "02fbb163-252d-4cd0-a1f6-a4e51df02abe",
   "metadata": {},
   "outputs": [],
   "source": [
    "from sklearn.preprocessing import StandardScaler\n",
    "# Scale data\n",
    "scaler = StandardScaler()\n",
    "X_train = scaler.fit_transform(X_train)\n",
    "X_test = scaler.transform(X_test)"
   ]
  },
  {
   "cell_type": "markdown",
   "id": "5a15ff39-4355-495f-80cc-f63b6346f600",
   "metadata": {},
   "source": [
    "2. Build Model\n",
    "3. Train"
   ]
  },
  {
   "cell_type": "code",
   "execution_count": 8,
   "id": "b1470d81-ecb3-418b-812b-b3012739a017",
   "metadata": {},
   "outputs": [
    {
     "name": "stdout",
     "output_type": "stream",
     "text": [
      "Accuracy: 0.748\n"
     ]
    }
   ],
   "source": [
    "from sklearn.svm import SVC\n",
    "from sklearn.metrics import accuracy_score\n",
    "\n",
    "# Linear\n",
    "svm_model = SVC(kernel='linear', C=1)\n",
    "\n",
    "svm_model.fit(X_train, y_train)\n",
    "\n",
    "y_pred = svm_model.predict(X_test)\n",
    "\n",
    "accuracy = accuracy_score(y_test, y_pred)\n",
    "print(\"Accuracy:\", accuracy)"
   ]
  },
  {
   "cell_type": "code",
   "execution_count": 9,
   "id": "da3d9440-d3da-4b18-83c1-923e2fad58b0",
   "metadata": {},
   "outputs": [
    {
     "name": "stdout",
     "output_type": "stream",
     "text": [
      "Accuracy: 0.772\n"
     ]
    }
   ],
   "source": [
    "# RBF\n",
    "svm_model = SVC(kernel='rbf', C=1)\n",
    "\n",
    "svm_model.fit(X_train, y_train)\n",
    "\n",
    "y_pred = svm_model.predict(X_test)\n",
    "\n",
    "accuracy = accuracy_score(y_test, y_pred)\n",
    "print(\"Accuracy:\", accuracy)"
   ]
  },
  {
   "cell_type": "code",
   "execution_count": 10,
   "id": "1ec9feae-ff1d-4bbc-a7bf-a7552206ae57",
   "metadata": {},
   "outputs": [
    {
     "name": "stdout",
     "output_type": "stream",
     "text": [
      "Accuracy: 0.76\n"
     ]
    }
   ],
   "source": [
    "# Poly (3 Degrees)\n",
    "svm_model = SVC(kernel='poly', C=1)\n",
    "\n",
    "svm_model.fit(X_train, y_train)\n",
    "\n",
    "y_pred = svm_model.predict(X_test)\n",
    "\n",
    "accuracy = accuracy_score(y_test, y_pred)\n",
    "print(\"Accuracy:\", accuracy)"
   ]
  }
 ],
 "metadata": {
  "kernelspec": {
   "display_name": "Python 3 (ipykernel)",
   "language": "python",
   "name": "python3"
  },
  "language_info": {
   "codemirror_mode": {
    "name": "ipython",
    "version": 3
   },
   "file_extension": ".py",
   "mimetype": "text/x-python",
   "name": "python",
   "nbconvert_exporter": "python",
   "pygments_lexer": "ipython3",
   "version": "3.8.19"
  }
 },
 "nbformat": 4,
 "nbformat_minor": 5
}
