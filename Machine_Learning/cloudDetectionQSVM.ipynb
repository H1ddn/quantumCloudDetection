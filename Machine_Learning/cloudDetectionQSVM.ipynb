{
 "cells": [
  {
   "cell_type": "markdown",
   "id": "5232cdcf-d7f0-4fed-b7e2-08db1a40ace0",
   "metadata": {},
   "source": [
    "# Quantum Support Vector Machine Cloud Detection\n",
    "1. Data Preprocessing"
   ]
  },
  {
   "cell_type": "code",
   "execution_count": 1,
   "id": "9bbb4d1e-6b6f-4b95-b3d1-2d5ebc3b5379",
   "metadata": {},
   "outputs": [],
   "source": [
    "import numpy as np\n",
    "# Grab Dataset\n",
    "data = np.genfromtxt('../data.csv', delimiter=',')"
   ]
  },
  {
   "cell_type": "code",
   "execution_count": 2,
   "id": "8ceed46e-517f-42e3-920e-45110b8be7aa",
   "metadata": {},
   "outputs": [],
   "source": [
    "# Split data into y (label) and x (features)\n",
    "y = data[:,0]\n",
    "x = data[:,1:22]\n",
    "x = np.nan_to_num(x, nan=0.0)"
   ]
  },
  {
   "cell_type": "code",
   "execution_count": 3,
   "id": "7cb91cbd-8c31-4806-b138-fe59179d26c5",
   "metadata": {},
   "outputs": [
    {
     "name": "stdout",
     "output_type": "stream",
     "text": [
      "0.0\n"
     ]
    }
   ],
   "source": [
    "# Any multi-layer cloud labels set to 1, turn into classification [cloud, no cloud]=[1,0]\n",
    "y = np.where(y >= 1, 1, y)\n",
    "print(y[0])"
   ]
  },
  {
   "cell_type": "code",
   "execution_count": 4,
   "id": "2e4358b3-f4bb-48a1-baa6-436d8a86665a",
   "metadata": {},
   "outputs": [],
   "source": [
    "# Generate 10000 random indices\n",
    "np.random.seed(7)\n",
    "random_indices = np.random.choice(len(x), size=10000, replace=False)\n",
    "\n",
    "# Select samples using the random indices\n",
    "x = x[random_indices,:]\n",
    "y = y[random_indices]"
   ]
  },
  {
   "cell_type": "code",
   "execution_count": 5,
   "id": "6918bec7-97e5-4a82-9bfa-e3cc825e4c77",
   "metadata": {},
   "outputs": [],
   "source": [
    "# cut down on features\n",
    "# 0 and 6 were chosen from Random Forest's Feature Importance\n",
    "x = x[:,[0,6]]"
   ]
  },
  {
   "cell_type": "code",
   "execution_count": 6,
   "id": "0a128fc6-7b18-4f16-bc3b-eba67750f9b1",
   "metadata": {},
   "outputs": [],
   "source": [
    "from sklearn.model_selection import train_test_split\n",
    "# Split data into Train/Test/Validation 10/90\n",
    "X_train, X_test, y_train, y_test = train_test_split(x, y, test_size=0.9, random_state=42)\n",
    "\n",
    "# Reduce test set to cut down processing cost, running test score is costly\n",
    "X_test = X_test[750:1000,:]\n",
    "y_test = y_test[750:1000]"
   ]
  },
  {
   "cell_type": "code",
   "execution_count": 7,
   "id": "37cfdff4-7e32-4515-9db3-132aa690849b",
   "metadata": {},
   "outputs": [],
   "source": [
    "from sklearn.preprocessing import StandardScaler\n",
    "# Scale data\n",
    "scaler = StandardScaler()\n",
    "X_train = scaler.fit_transform(X_train)\n",
    "X_test = scaler.transform(X_test)"
   ]
  },
  {
   "cell_type": "code",
   "execution_count": 8,
   "id": "f38950ff-6da3-48f3-9ac3-a3e938ffed0d",
   "metadata": {},
   "outputs": [
    {
     "name": "stdout",
     "output_type": "stream",
     "text": [
      "2\n",
      "(1000, 2)\n",
      "6.8964046359257605\n",
      "-2.279219008595724\n",
      "6.8964046359257605\n",
      "-2.279219008595724\n"
     ]
    }
   ],
   "source": [
    "print(x.shape[1])\n",
    "print(np.shape(X_train))\n",
    "print(np.max(X_train[:,0]))\n",
    "print(np.min(X_train[:,1]))\n",
    "print(np.max(X_train[:,0]))\n",
    "print(np.min(X_train[:,1]))"
   ]
  },
  {
   "cell_type": "markdown",
   "id": "36442c72-905f-46bb-97f5-dbbfadce7e7f",
   "metadata": {},
   "source": [
    "2. Build Quantum SVM"
   ]
  },
  {
   "cell_type": "code",
   "execution_count": 9,
   "id": "8f056058-5ee4-4270-b5a0-7eb067880ba5",
   "metadata": {},
   "outputs": [],
   "source": [
    "from qiskit.circuit.library import ZZFeatureMap\n",
    "from qiskit.primitives import Sampler\n",
    "from qiskit_algorithms.state_fidelities import ComputeUncompute\n",
    "from qiskit_machine_learning.kernels import FidelityQuantumKernel\n",
    "\n",
    "adhoc_feature_map = ZZFeatureMap(feature_dimension=x.shape[1], reps=3, entanglement=\"linear\")\n",
    "\n",
    "sampler = Sampler()\n",
    "\n",
    "fidelity = ComputeUncompute(sampler=sampler)\n",
    "\n",
    "adhoc_kernel = FidelityQuantumKernel(fidelity=fidelity, feature_map=adhoc_feature_map)"
   ]
  },
  {
   "cell_type": "markdown",
   "id": "26880336-3dbc-4a1a-a04f-682f2a48d103",
   "metadata": {},
   "source": [
    "3. Train"
   ]
  },
  {
   "cell_type": "code",
   "execution_count": 10,
   "id": "7a8f55cb-a960-4d0a-8796-17b5bf2b0c91",
   "metadata": {},
   "outputs": [
    {
     "name": "stdout",
     "output_type": "stream",
     "text": [
      "Time elapsed for fitting: 2515.318550348282 seconds\n"
     ]
    }
   ],
   "source": [
    "from qiskit_machine_learning.algorithms import QSVC\n",
    "import time\n",
    "\n",
    "qsvc = QSVC(quantum_kernel=adhoc_kernel)\n",
    "\n",
    "start_fit = time.time()\n",
    "qsvc.fit(X_train, y_train)\n",
    "end_fit = time.time()\n",
    "fit_time = end_fit - start_fit\n",
    "\n",
    "print(f\"Time elapsed for fitting: {fit_time} seconds\")"
   ]
  },
  {
   "cell_type": "code",
   "execution_count": 11,
   "id": "6d6d7e1e-7b78-4d5c-8586-f9b897b86a7a",
   "metadata": {},
   "outputs": [
    {
     "name": "stdout",
     "output_type": "stream",
     "text": [
      "Time elapsed for scoring: 1274.2756481170654 seconds\n",
      "QSVC classification test score: 0.748\n"
     ]
    }
   ],
   "source": [
    "start_score = time.time()\n",
    "qsvc_score = qsvc.score(X_test, y_test)\n",
    "end_score = time.time()\n",
    "score_time = end_score - start_score\n",
    "\n",
    "print(f\"Time elapsed for scoring: {score_time} seconds\")\n",
    "print(f\"QSVC classification test score: {qsvc_score}\")"
   ]
  }
 ],
 "metadata": {
  "kernelspec": {
   "display_name": "Python 3 (ipykernel)",
   "language": "python",
   "name": "python3"
  },
  "language_info": {
   "codemirror_mode": {
    "name": "ipython",
    "version": 3
   },
   "file_extension": ".py",
   "mimetype": "text/x-python",
   "name": "python",
   "nbconvert_exporter": "python",
   "pygments_lexer": "ipython3",
   "version": "3.8.19"
  }
 },
 "nbformat": 4,
 "nbformat_minor": 5
}
