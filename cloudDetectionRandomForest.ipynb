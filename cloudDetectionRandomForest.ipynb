{
 "cells": [
  {
   "cell_type": "code",
   "execution_count": 1,
   "id": "8d02e264-1ceb-4e5e-bedf-5a73bb164d35",
   "metadata": {},
   "outputs": [],
   "source": [
    "import numpy as np\n",
    "\n",
    "data = np.genfromtxt('data.csv', delimiter=',')"
   ]
  },
  {
   "cell_type": "code",
   "execution_count": 2,
   "id": "66dcd1c9-0d62-47a0-b3bd-141efb1c2a13",
   "metadata": {},
   "outputs": [],
   "source": [
    "y = data[:,0]\n",
    "x = data[:,1:22]\n",
    "x = np.nan_to_num(x, nan=0.0)"
   ]
  },
  {
   "cell_type": "code",
   "execution_count": 3,
   "id": "c471974f-ddb2-4e6b-81d0-57865b9ef51e",
   "metadata": {},
   "outputs": [
    {
     "name": "stdout",
     "output_type": "stream",
     "text": [
      "0.0\n"
     ]
    }
   ],
   "source": [
    "y = np.where(y >= 1, 1, y)\n",
    "print(y[0])"
   ]
  },
  {
   "cell_type": "code",
   "execution_count": 4,
   "id": "a91e29ac-35c1-4e43-a41d-5a0a24229fc8",
   "metadata": {},
   "outputs": [],
   "source": [
    "from sklearn.model_selection import train_test_split\n",
    "\n",
    "X_train, X_test, y_train, y_test = train_test_split(x, y, test_size=0.2, random_state=42)"
   ]
  },
  {
   "cell_type": "code",
   "execution_count": 5,
   "id": "f436b027-e8f2-43d2-893b-462c80b9beb8",
   "metadata": {},
   "outputs": [
    {
     "name": "stdout",
     "output_type": "stream",
     "text": [
      "Accuracy: 0.9251603298213468\n"
     ]
    }
   ],
   "source": [
    "from sklearn.ensemble import RandomForestClassifier\n",
    "from sklearn.metrics import accuracy_score\n",
    "\n",
    "rf_classifier = RandomForestClassifier(n_estimators=300, random_state=42)\n",
    "\n",
    "rf_classifier.fit(X_train, y_train)\n",
    "\n",
    "y_pred = rf_classifier.predict(X_test)\n",
    "\n",
    "accuracy = accuracy_score(y_test, y_pred)\n",
    "print(\"Accuracy:\", accuracy)"
   ]
  },
  {
   "cell_type": "code",
   "execution_count": 6,
   "id": "6da10fcc-fb2b-4929-ac66-108609283e68",
   "metadata": {},
   "outputs": [
    {
     "name": "stdout",
     "output_type": "stream",
     "text": [
      "\n",
      "Feature Importances:\n",
      "Feature 0: Importance = 0.09732602183499173\n",
      "Feature 6: Importance = 0.08739131866938757\n",
      "Feature 1: Importance = 0.07244389388124224\n",
      "Feature 2: Importance = 0.06620196876137074\n",
      "Feature 5: Importance = 0.06588005413318454\n",
      "Feature 10: Importance = 0.06518833624023501\n",
      "Feature 7: Importance = 0.06448641834471508\n",
      "Feature 3: Importance = 0.06135486948738233\n",
      "Feature 4: Importance = 0.060445445879470476\n",
      "Feature 9: Importance = 0.050665346751548934\n",
      "Feature 8: Importance = 0.05009743560389278\n",
      "Feature 19: Importance = 0.03918617247110845\n",
      "Feature 14: Importance = 0.03557310421343942\n",
      "Feature 17: Importance = 0.03324127782010206\n",
      "Feature 12: Importance = 0.025034163829568964\n",
      "Feature 13: Importance = 0.022851117626555315\n",
      "Feature 18: Importance = 0.02258421856744981\n",
      "Feature 16: Importance = 0.021193196436817018\n",
      "Feature 15: Importance = 0.02110975793748406\n",
      "Feature 11: Importance = 0.020112465297343226\n",
      "Feature 20: Importance = 0.017633416212710133\n"
     ]
    }
   ],
   "source": [
    "# Print feature importances\n",
    "feature_importances = rf_classifier.feature_importances_\n",
    "num_features = len(feature_importances)\n",
    "sorted_indices = feature_importances.argsort()[::-1]\n",
    "\n",
    "print(\"\\nFeature Importances:\")\n",
    "for i in range(num_features):\n",
    "    print(f\"Feature {sorted_indices[i]}: Importance = {feature_importances[sorted_indices[i]]}\")"
   ]
  },
  {
   "cell_type": "code",
   "execution_count": null,
   "id": "84d04242-57eb-40e1-9965-476ff090d8b6",
   "metadata": {},
   "outputs": [],
   "source": []
  }
 ],
 "metadata": {
  "kernelspec": {
   "display_name": "Python 3 (ipykernel)",
   "language": "python",
   "name": "python3"
  },
  "language_info": {
   "codemirror_mode": {
    "name": "ipython",
    "version": 3
   },
   "file_extension": ".py",
   "mimetype": "text/x-python",
   "name": "python",
   "nbconvert_exporter": "python",
   "pygments_lexer": "ipython3",
   "version": "3.8.19"
  }
 },
 "nbformat": 4,
 "nbformat_minor": 5
}
