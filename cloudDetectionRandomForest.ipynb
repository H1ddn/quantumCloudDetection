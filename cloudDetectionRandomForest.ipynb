{
 "cells": [
  {
   "cell_type": "markdown",
   "id": "7f44bcf1-ac1d-45af-a0aa-8a3629b82311",
   "metadata": {},
   "source": [
    "# Random Forest Cloud Detection\n",
    "1. Data Preprocessing"
   ]
  },
  {
   "cell_type": "code",
   "execution_count": 1,
   "id": "8d02e264-1ceb-4e5e-bedf-5a73bb164d35",
   "metadata": {},
   "outputs": [],
   "source": [
    "import numpy as np\n",
    "# Grab Dataset\n",
    "data = np.genfromtxt('data.csv', delimiter=',')"
   ]
  },
  {
   "cell_type": "code",
   "execution_count": 2,
   "id": "66dcd1c9-0d62-47a0-b3bd-141efb1c2a13",
   "metadata": {},
   "outputs": [],
   "source": [
    "# Split data into y (label) and x (features)\n",
    "y = data[:,0]\n",
    "x = data[:,1:22]\n",
    "x = np.nan_to_num(x, nan=0.0)"
   ]
  },
  {
   "cell_type": "code",
   "execution_count": 3,
   "id": "c471974f-ddb2-4e6b-81d0-57865b9ef51e",
   "metadata": {},
   "outputs": [
    {
     "name": "stdout",
     "output_type": "stream",
     "text": [
      "0.0\n"
     ]
    }
   ],
   "source": [
    "# Any multi-layer cloud labels set to 1, turn into classification [cloud, no cloud]=[1,0]\n",
    "y = np.where(y >= 1, 1, y)\n",
    "print(y[0])"
   ]
  },
  {
   "cell_type": "code",
   "execution_count": 4,
   "id": "a91e29ac-35c1-4e43-a41d-5a0a24229fc8",
   "metadata": {},
   "outputs": [],
   "source": [
    "from sklearn.model_selection import train_test_split\n",
    "# Split data into Train/Test/Validation 80/20\n",
    "X_train, X_test, y_train, y_test = train_test_split(x, y, test_size=0.2, random_state=42)"
   ]
  },
  {
   "cell_type": "code",
   "execution_count": 5,
   "id": "a25260e2-0a40-480e-b21e-d9c873e79737",
   "metadata": {},
   "outputs": [],
   "source": [
    "from sklearn.preprocessing import StandardScaler\n",
    "# Scale data\n",
    "scaler = StandardScaler()\n",
    "X_train = scaler.fit_transform(X_train)\n",
    "X_test = scaler.transform(X_test)"
   ]
  },
  {
   "cell_type": "markdown",
   "id": "e48ad5b4-6385-402a-bd9e-649295cabd2f",
   "metadata": {},
   "source": [
    "2. Build Random Forest\n",
    "3. Train"
   ]
  },
  {
   "cell_type": "code",
   "execution_count": 6,
   "id": "f436b027-e8f2-43d2-893b-462c80b9beb8",
   "metadata": {},
   "outputs": [
    {
     "name": "stdout",
     "output_type": "stream",
     "text": [
      "Accuracy: 0.9255038937242327\n"
     ]
    }
   ],
   "source": [
    "from sklearn.ensemble import RandomForestClassifier\n",
    "from sklearn.metrics import accuracy_score\n",
    "\n",
    "rf_classifier = RandomForestClassifier(n_estimators=300, random_state=42)\n",
    "\n",
    "rf_classifier.fit(X_train, y_train)\n",
    "\n",
    "y_pred = rf_classifier.predict(X_test)\n",
    "\n",
    "accuracy = accuracy_score(y_test, y_pred)\n",
    "print(\"Accuracy:\", accuracy)"
   ]
  },
  {
   "cell_type": "markdown",
   "id": "7cf2eeef-099e-430b-9258-e4ec55e47f70",
   "metadata": {},
   "source": [
    "4. Gather Feature Importance"
   ]
  },
  {
   "cell_type": "code",
   "execution_count": 7,
   "id": "6da10fcc-fb2b-4929-ac66-108609283e68",
   "metadata": {},
   "outputs": [
    {
     "name": "stdout",
     "output_type": "stream",
     "text": [
      "\n",
      "Feature Importances:\n",
      "Feature 0: Importance = 0.09943824244065133\n",
      "Feature 6: Importance = 0.08837987997691926\n",
      "Feature 1: Importance = 0.0725464287022406\n",
      "Feature 2: Importance = 0.06715528563599818\n",
      "Feature 5: Importance = 0.06563014463732963\n",
      "Feature 10: Importance = 0.06502393093231333\n",
      "Feature 7: Importance = 0.06490915699675105\n",
      "Feature 3: Importance = 0.06128350836477842\n",
      "Feature 4: Importance = 0.060584334088559635\n",
      "Feature 9: Importance = 0.050566976910904296\n",
      "Feature 8: Importance = 0.04953102266289154\n",
      "Feature 19: Importance = 0.0382666117141439\n",
      "Feature 14: Importance = 0.034968024593306064\n",
      "Feature 17: Importance = 0.03262088151205535\n",
      "Feature 12: Importance = 0.02455793332431899\n",
      "Feature 18: Importance = 0.0231378361515029\n",
      "Feature 13: Importance = 0.02239466332140489\n",
      "Feature 15: Importance = 0.021842891330709248\n",
      "Feature 16: Importance = 0.020911899545999327\n",
      "Feature 11: Importance = 0.019690800180332868\n",
      "Feature 20: Importance = 0.0165595469768891\n"
     ]
    }
   ],
   "source": [
    "# Print feature importances\n",
    "feature_importances = rf_classifier.feature_importances_\n",
    "num_features = len(feature_importances)\n",
    "sorted_indices = feature_importances.argsort()[::-1]\n",
    "\n",
    "print(\"\\nFeature Importances:\")\n",
    "for i in range(num_features):\n",
    "    print(f\"Feature {sorted_indices[i]}: Importance = {feature_importances[sorted_indices[i]]}\")"
   ]
  },
  {
   "cell_type": "markdown",
   "id": "62cb09d5-0226-4f0b-8772-343aac7bf9a3",
   "metadata": {},
   "source": [
    "## Downsample to compare to QSVM"
   ]
  },
  {
   "cell_type": "code",
   "execution_count": 8,
   "id": "9aed71da-3567-4ef0-9892-b7f6ec7ed0eb",
   "metadata": {},
   "outputs": [],
   "source": [
    "# Generate 1250 random indices\n",
    "np.random.seed(7)\n",
    "random_indices = np.random.choice(len(x), size=1250, replace=False)\n",
    "\n",
    "# Select samples using the random indices\n",
    "x = x[random_indices,:]\n",
    "y = y[random_indices]"
   ]
  },
  {
   "cell_type": "code",
   "execution_count": 9,
   "id": "2b16d3fa-3c28-401f-b594-20b89d7db700",
   "metadata": {},
   "outputs": [],
   "source": [
    "# cut down on features\n",
    "# 0 and 6 were chosen from Random Forest's Feature Importance\n",
    "x = x[:,[0,6]]"
   ]
  },
  {
   "cell_type": "code",
   "execution_count": 10,
   "id": "0ad55c5a-162c-4530-ab11-fa3dacfc79e0",
   "metadata": {},
   "outputs": [],
   "source": [
    "from sklearn.model_selection import train_test_split\n",
    "# Split data into Train/Test/Validation 80/20\n",
    "X_train, X_test, y_train, y_test = train_test_split(x, y, test_size=0.2, random_state=42)"
   ]
  },
  {
   "cell_type": "code",
   "execution_count": 11,
   "id": "844e8a7c-3605-4acc-b5a5-1559e27961d7",
   "metadata": {},
   "outputs": [],
   "source": [
    "from sklearn.preprocessing import StandardScaler\n",
    "# Scale data\n",
    "scaler = StandardScaler()\n",
    "X_train = scaler.fit_transform(X_train)\n",
    "X_test = scaler.transform(X_test)"
   ]
  },
  {
   "cell_type": "code",
   "execution_count": 12,
   "id": "e367db35-72e3-488f-92db-9ea90c59700a",
   "metadata": {},
   "outputs": [
    {
     "name": "stdout",
     "output_type": "stream",
     "text": [
      "Accuracy: 0.728\n"
     ]
    }
   ],
   "source": [
    "from sklearn.ensemble import RandomForestClassifier\n",
    "from sklearn.metrics import accuracy_score\n",
    "\n",
    "rf_classifier = RandomForestClassifier(n_estimators=300, random_state=42)\n",
    "\n",
    "rf_classifier.fit(X_train, y_train)\n",
    "\n",
    "y_pred = rf_classifier.predict(X_test)\n",
    "\n",
    "accuracy = accuracy_score(y_test, y_pred)\n",
    "print(\"Accuracy:\", accuracy)"
   ]
  }
 ],
 "metadata": {
  "kernelspec": {
   "display_name": "Python 3 (ipykernel)",
   "language": "python",
   "name": "python3"
  },
  "language_info": {
   "codemirror_mode": {
    "name": "ipython",
    "version": 3
   },
   "file_extension": ".py",
   "mimetype": "text/x-python",
   "name": "python",
   "nbconvert_exporter": "python",
   "pygments_lexer": "ipython3",
   "version": "3.8.19"
  }
 },
 "nbformat": 4,
 "nbformat_minor": 5
}
